{
 "cells": [
  {
   "cell_type": "markdown",
   "id": "ce0521a3",
   "metadata": {},
   "source": [
    "<h1 style = \"text-align: center\">Data Preparation</h1>"
   ]
  },
  {
   "cell_type": "markdown",
   "id": "8f0d781e",
   "metadata": {},
   "source": [
    "<h3 style = \"text-align: center\">Food.com Recipe Recommender - SOEN 471 (Big Data Analytics)</h3>\n"
   ]
  },
  {
   "cell_type": "markdown",
   "id": "31d91835",
   "metadata": {},
   "source": [
    "## Objective:\n",
    "\n",
    "Inspect the dataset, identify missing data, outliers, data types (categorical data in particular), and write Dask programs to correct for potential issues. Finally, return training and testing datasets to be used to create and test recommendation engines."
   ]
  },
  {
   "cell_type": "code",
   "execution_count": 1,
   "id": "e3e4046a",
   "metadata": {},
   "outputs": [],
   "source": [
    "import os\n",
    "import dask.dataframe as dd\n",
    "import matplotlib.pyplot as plt\n",
    "import numpy as np\n",
    "import seaborn as sns\n",
    "import pandas as pd\n",
    "from sklearn.model_selection import train_test_split"
   ]
  },
  {
   "cell_type": "code",
   "execution_count": 2,
   "id": "76a518be",
   "metadata": {},
   "outputs": [],
   "source": [
    "interactions = dd.read_csv('RAW_interactions.csv')\n",
    "recipes = dd.read_csv('RAW_recipes.csv')"
   ]
  },
  {
   "cell_type": "markdown",
   "id": "a6d2ae4f",
   "metadata": {},
   "source": [
    "## Sample Tuples:\n"
   ]
  },
  {
   "cell_type": "code",
   "execution_count": 3,
   "id": "1b658540",
   "metadata": {},
   "outputs": [
    {
     "data": {
      "text/plain": [
       "user_id       int64\n",
       "recipe_id     int64\n",
       "date         object\n",
       "rating        int64\n",
       "review       object\n",
       "dtype: object"
      ]
     },
     "execution_count": 3,
     "metadata": {},
     "output_type": "execute_result"
    }
   ],
   "source": [
    "interactions.dtypes"
   ]
  },
  {
   "cell_type": "code",
   "execution_count": 4,
   "id": "82e5a175",
   "metadata": {},
   "outputs": [
    {
     "data": {
      "text/html": [
       "<div>\n",
       "<style scoped>\n",
       "    .dataframe tbody tr th:only-of-type {\n",
       "        vertical-align: middle;\n",
       "    }\n",
       "\n",
       "    .dataframe tbody tr th {\n",
       "        vertical-align: top;\n",
       "    }\n",
       "\n",
       "    .dataframe thead th {\n",
       "        text-align: right;\n",
       "    }\n",
       "</style>\n",
       "<table border=\"1\" class=\"dataframe\">\n",
       "  <thead>\n",
       "    <tr style=\"text-align: right;\">\n",
       "      <th></th>\n",
       "      <th>user_id</th>\n",
       "      <th>recipe_id</th>\n",
       "      <th>date</th>\n",
       "      <th>rating</th>\n",
       "      <th>review</th>\n",
       "    </tr>\n",
       "  </thead>\n",
       "  <tbody>\n",
       "    <tr>\n",
       "      <th>0</th>\n",
       "      <td>38094</td>\n",
       "      <td>40893</td>\n",
       "      <td>2003-02-17</td>\n",
       "      <td>4</td>\n",
       "      <td>Great with a salad. Cooked on top of stove for...</td>\n",
       "    </tr>\n",
       "    <tr>\n",
       "      <th>1</th>\n",
       "      <td>1293707</td>\n",
       "      <td>40893</td>\n",
       "      <td>2011-12-21</td>\n",
       "      <td>5</td>\n",
       "      <td>So simple, so delicious! Great for chilly fall...</td>\n",
       "    </tr>\n",
       "    <tr>\n",
       "      <th>2</th>\n",
       "      <td>8937</td>\n",
       "      <td>44394</td>\n",
       "      <td>2002-12-01</td>\n",
       "      <td>4</td>\n",
       "      <td>This worked very well and is EASY.  I used not...</td>\n",
       "    </tr>\n",
       "    <tr>\n",
       "      <th>3</th>\n",
       "      <td>126440</td>\n",
       "      <td>85009</td>\n",
       "      <td>2010-02-27</td>\n",
       "      <td>5</td>\n",
       "      <td>I made the Mexican topping and took it to bunk...</td>\n",
       "    </tr>\n",
       "    <tr>\n",
       "      <th>4</th>\n",
       "      <td>57222</td>\n",
       "      <td>85009</td>\n",
       "      <td>2011-10-01</td>\n",
       "      <td>5</td>\n",
       "      <td>Made the cheddar bacon topping, adding a sprin...</td>\n",
       "    </tr>\n",
       "  </tbody>\n",
       "</table>\n",
       "</div>"
      ],
      "text/plain": [
       "   user_id  recipe_id        date  rating  \\\n",
       "0    38094      40893  2003-02-17       4   \n",
       "1  1293707      40893  2011-12-21       5   \n",
       "2     8937      44394  2002-12-01       4   \n",
       "3   126440      85009  2010-02-27       5   \n",
       "4    57222      85009  2011-10-01       5   \n",
       "\n",
       "                                              review  \n",
       "0  Great with a salad. Cooked on top of stove for...  \n",
       "1  So simple, so delicious! Great for chilly fall...  \n",
       "2  This worked very well and is EASY.  I used not...  \n",
       "3  I made the Mexican topping and took it to bunk...  \n",
       "4  Made the cheddar bacon topping, adding a sprin...  "
      ]
     },
     "execution_count": 4,
     "metadata": {},
     "output_type": "execute_result"
    }
   ],
   "source": [
    "interactions.head()"
   ]
  },
  {
   "cell_type": "code",
   "execution_count": 5,
   "id": "f927176d",
   "metadata": {},
   "outputs": [
    {
     "data": {
      "text/plain": [
       "name              object\n",
       "recipe_id          int64\n",
       "minutes            int64\n",
       "contributor_id     int64\n",
       "submitted         object\n",
       "tags              object\n",
       "nutrition         object\n",
       "n_steps            int64\n",
       "steps             object\n",
       "description       object\n",
       "ingredients       object\n",
       "n_ingredients      int64\n",
       "dtype: object"
      ]
     },
     "execution_count": 5,
     "metadata": {},
     "output_type": "execute_result"
    }
   ],
   "source": [
    "recipes = recipes.rename(columns={\"id\": \"recipe_id\"})\n",
    "recipes.dtypes"
   ]
  },
  {
   "cell_type": "code",
   "execution_count": 6,
   "id": "5f8d97c9",
   "metadata": {},
   "outputs": [
    {
     "data": {
      "text/html": [
       "<div>\n",
       "<style scoped>\n",
       "    .dataframe tbody tr th:only-of-type {\n",
       "        vertical-align: middle;\n",
       "    }\n",
       "\n",
       "    .dataframe tbody tr th {\n",
       "        vertical-align: top;\n",
       "    }\n",
       "\n",
       "    .dataframe thead th {\n",
       "        text-align: right;\n",
       "    }\n",
       "</style>\n",
       "<table border=\"1\" class=\"dataframe\">\n",
       "  <thead>\n",
       "    <tr style=\"text-align: right;\">\n",
       "      <th></th>\n",
       "      <th>name</th>\n",
       "      <th>recipe_id</th>\n",
       "      <th>minutes</th>\n",
       "      <th>contributor_id</th>\n",
       "      <th>submitted</th>\n",
       "      <th>tags</th>\n",
       "      <th>nutrition</th>\n",
       "      <th>n_steps</th>\n",
       "      <th>steps</th>\n",
       "      <th>description</th>\n",
       "      <th>ingredients</th>\n",
       "      <th>n_ingredients</th>\n",
       "    </tr>\n",
       "  </thead>\n",
       "  <tbody>\n",
       "    <tr>\n",
       "      <th>0</th>\n",
       "      <td>arriba   baked winter squash mexican style</td>\n",
       "      <td>137739</td>\n",
       "      <td>55</td>\n",
       "      <td>47892</td>\n",
       "      <td>2005-09-16</td>\n",
       "      <td>['60-minutes-or-less', 'time-to-make', 'course...</td>\n",
       "      <td>[51.5, 0.0, 13.0, 0.0, 2.0, 0.0, 4.0]</td>\n",
       "      <td>11</td>\n",
       "      <td>['make a choice and proceed with recipe', 'dep...</td>\n",
       "      <td>autumn is my favorite time of year to cook! th...</td>\n",
       "      <td>['winter squash', 'mexican seasoning', 'mixed ...</td>\n",
       "      <td>7</td>\n",
       "    </tr>\n",
       "    <tr>\n",
       "      <th>1</th>\n",
       "      <td>a bit different  breakfast pizza</td>\n",
       "      <td>31490</td>\n",
       "      <td>30</td>\n",
       "      <td>26278</td>\n",
       "      <td>2002-06-17</td>\n",
       "      <td>['30-minutes-or-less', 'time-to-make', 'course...</td>\n",
       "      <td>[173.4, 18.0, 0.0, 17.0, 22.0, 35.0, 1.0]</td>\n",
       "      <td>9</td>\n",
       "      <td>['preheat oven to 425 degrees f', 'press dough...</td>\n",
       "      <td>this recipe calls for the crust to be prebaked...</td>\n",
       "      <td>['prepared pizza crust', 'sausage patty', 'egg...</td>\n",
       "      <td>6</td>\n",
       "    </tr>\n",
       "    <tr>\n",
       "      <th>2</th>\n",
       "      <td>all in the kitchen  chili</td>\n",
       "      <td>112140</td>\n",
       "      <td>130</td>\n",
       "      <td>196586</td>\n",
       "      <td>2005-02-25</td>\n",
       "      <td>['time-to-make', 'course', 'preparation', 'mai...</td>\n",
       "      <td>[269.8, 22.0, 32.0, 48.0, 39.0, 27.0, 5.0]</td>\n",
       "      <td>6</td>\n",
       "      <td>['brown ground beef in large pot', 'add choppe...</td>\n",
       "      <td>this modified version of 'mom's' chili was a h...</td>\n",
       "      <td>['ground beef', 'yellow onions', 'diced tomato...</td>\n",
       "      <td>13</td>\n",
       "    </tr>\n",
       "    <tr>\n",
       "      <th>3</th>\n",
       "      <td>alouette  potatoes</td>\n",
       "      <td>59389</td>\n",
       "      <td>45</td>\n",
       "      <td>68585</td>\n",
       "      <td>2003-04-14</td>\n",
       "      <td>['60-minutes-or-less', 'time-to-make', 'course...</td>\n",
       "      <td>[368.1, 17.0, 10.0, 2.0, 14.0, 8.0, 20.0]</td>\n",
       "      <td>11</td>\n",
       "      <td>['place potatoes in a large pot of lightly sal...</td>\n",
       "      <td>this is a super easy, great tasting, make ahea...</td>\n",
       "      <td>['spreadable cheese with garlic and herbs', 'n...</td>\n",
       "      <td>11</td>\n",
       "    </tr>\n",
       "    <tr>\n",
       "      <th>4</th>\n",
       "      <td>amish  tomato ketchup  for canning</td>\n",
       "      <td>44061</td>\n",
       "      <td>190</td>\n",
       "      <td>41706</td>\n",
       "      <td>2002-10-25</td>\n",
       "      <td>['weeknight', 'time-to-make', 'course', 'main-...</td>\n",
       "      <td>[352.9, 1.0, 337.0, 23.0, 3.0, 0.0, 28.0]</td>\n",
       "      <td>5</td>\n",
       "      <td>['mix all ingredients&amp; boil for 2 1 / 2 hours ...</td>\n",
       "      <td>my dh's amish mother raised him on this recipe...</td>\n",
       "      <td>['tomato juice', 'apple cider vinegar', 'sugar...</td>\n",
       "      <td>8</td>\n",
       "    </tr>\n",
       "  </tbody>\n",
       "</table>\n",
       "</div>"
      ],
      "text/plain": [
       "                                         name  recipe_id  minutes  \\\n",
       "0  arriba   baked winter squash mexican style     137739       55   \n",
       "1            a bit different  breakfast pizza      31490       30   \n",
       "2                   all in the kitchen  chili     112140      130   \n",
       "3                          alouette  potatoes      59389       45   \n",
       "4          amish  tomato ketchup  for canning      44061      190   \n",
       "\n",
       "   contributor_id   submitted  \\\n",
       "0           47892  2005-09-16   \n",
       "1           26278  2002-06-17   \n",
       "2          196586  2005-02-25   \n",
       "3           68585  2003-04-14   \n",
       "4           41706  2002-10-25   \n",
       "\n",
       "                                                tags  \\\n",
       "0  ['60-minutes-or-less', 'time-to-make', 'course...   \n",
       "1  ['30-minutes-or-less', 'time-to-make', 'course...   \n",
       "2  ['time-to-make', 'course', 'preparation', 'mai...   \n",
       "3  ['60-minutes-or-less', 'time-to-make', 'course...   \n",
       "4  ['weeknight', 'time-to-make', 'course', 'main-...   \n",
       "\n",
       "                                    nutrition  n_steps  \\\n",
       "0       [51.5, 0.0, 13.0, 0.0, 2.0, 0.0, 4.0]       11   \n",
       "1   [173.4, 18.0, 0.0, 17.0, 22.0, 35.0, 1.0]        9   \n",
       "2  [269.8, 22.0, 32.0, 48.0, 39.0, 27.0, 5.0]        6   \n",
       "3   [368.1, 17.0, 10.0, 2.0, 14.0, 8.0, 20.0]       11   \n",
       "4   [352.9, 1.0, 337.0, 23.0, 3.0, 0.0, 28.0]        5   \n",
       "\n",
       "                                               steps  \\\n",
       "0  ['make a choice and proceed with recipe', 'dep...   \n",
       "1  ['preheat oven to 425 degrees f', 'press dough...   \n",
       "2  ['brown ground beef in large pot', 'add choppe...   \n",
       "3  ['place potatoes in a large pot of lightly sal...   \n",
       "4  ['mix all ingredients& boil for 2 1 / 2 hours ...   \n",
       "\n",
       "                                         description  \\\n",
       "0  autumn is my favorite time of year to cook! th...   \n",
       "1  this recipe calls for the crust to be prebaked...   \n",
       "2  this modified version of 'mom's' chili was a h...   \n",
       "3  this is a super easy, great tasting, make ahea...   \n",
       "4  my dh's amish mother raised him on this recipe...   \n",
       "\n",
       "                                         ingredients  n_ingredients  \n",
       "0  ['winter squash', 'mexican seasoning', 'mixed ...              7  \n",
       "1  ['prepared pizza crust', 'sausage patty', 'egg...              6  \n",
       "2  ['ground beef', 'yellow onions', 'diced tomato...             13  \n",
       "3  ['spreadable cheese with garlic and herbs', 'n...             11  \n",
       "4  ['tomato juice', 'apple cider vinegar', 'sugar...              8  "
      ]
     },
     "execution_count": 6,
     "metadata": {},
     "output_type": "execute_result"
    }
   ],
   "source": [
    "recipes.head()"
   ]
  },
  {
   "cell_type": "markdown",
   "id": "cec7dc4e",
   "metadata": {},
   "source": [
    "The `nutrition` column in the recipes dataframe contains a list of 7 (nutritional) values. Instead of moving forward with this column - a better approach is to change this column to be in 1NF (1st normal form). The values corresponding to the list are as follows:\n",
    "- Calories\n",
    "- Total Fat (PDV)\n",
    "- Sugar (PDV)\n",
    "- Sodium (PDV)\n",
    "- Protein (PDV)\n",
    "- Saturated fat (PDV)\n",
    "- Carbohydrates (PDV)"
   ]
  },
  {
   "cell_type": "markdown",
   "id": "ce59c950",
   "metadata": {},
   "source": [
    "## Normalizing Column(s)"
   ]
  },
  {
   "cell_type": "code",
   "execution_count": 7,
   "id": "e8e8b348",
   "metadata": {},
   "outputs": [],
   "source": [
    "def normalize_columns(recipes_df, column_to_normalize):\n",
    "    \n",
    "    \"\"\"\n",
    "    Normalize the column_to_normalize column in recipes dataframe\n",
    "    \n",
    "    recipes_df: Dask Dataframe object in which normalization is to be applied\n",
    "    column_to_normalize: Name of the column that is to be normalized\n",
    "    \"\"\"\n",
    "    \n",
    "    recipes_df[column_to_normalize] = recipes_df[column_to_normalize].map(lambda x: x.split(','))  \n",
    "\n",
    "    recipes_df = recipes_df.assign(Calories = recipes_df[column_to_normalize].map(lambda x: x[0], meta = ('Calories', str)),\n",
    "                                   Total_fat_PDV = recipes_df[column_to_normalize].map(lambda x: x[1], meta = ('Total_fat_PDV', str)),\n",
    "                                   Sugar_PDV = recipes_df[column_to_normalize].map(lambda x: x[2], meta = ('Sugar_PDV', str)),\n",
    "                                   Sodium_PDV = recipes_df[column_to_normalize].map(lambda x: x[3], meta = ('Sodium_PDV', str)),\n",
    "                                   Protein_PDV = recipes_df[column_to_normalize].map(lambda x: x[4], meta = ('Protein_PDV', str)),\n",
    "                                   Saturated_fat_PDV = recipes_df[column_to_normalize].map(lambda x: x[5], meta = ('Saturated_fat_PDV', str)),\n",
    "                                   Carbohydrates_PDV = recipes_df[column_to_normalize].map(lambda x: x[6], meta = ('Carbohydrates_PDV', str)))\n",
    "    \n",
    "    recipes_df['Calories'] = recipes_df['Calories'].map(lambda x: x[1:])\n",
    "    recipes_df['Carbohydrates_PDV'] = recipes_df['Carbohydrates_PDV'].map(lambda x: x[:len(x)-1])\n",
    "    \n",
    "    recipes_df = recipes_df.drop([column_to_normalize], axis=1)\n",
    "    \n",
    "    return recipes_df"
   ]
  },
  {
   "cell_type": "markdown",
   "id": "460b8243",
   "metadata": {},
   "source": [
    "## Identifying Missing / Repeated Values"
   ]
  },
  {
   "cell_type": "code",
   "execution_count": 8,
   "id": "18726cbc",
   "metadata": {},
   "outputs": [],
   "source": [
    "def missing_values_check(dask_df):\n",
    "    \n",
    "    \"\"\"\n",
    "    Checks if there are any missing values in dask_df\n",
    "    \n",
    "    dask_df: Dask Dataframe object in which missing values are searched for\n",
    "    \"\"\"\n",
    "    \n",
    "    return dask_df.isnull().any().rename('MissingValues?').to_frame()"
   ]
  },
  {
   "cell_type": "code",
   "execution_count": 9,
   "id": "704e1c0c",
   "metadata": {},
   "outputs": [],
   "source": [
    "def repeat_values_removal(dask_df):\n",
    "    \n",
    "    \"\"\"\n",
    "    Drops any repeated rows in dask_df\n",
    "    \n",
    "    dask_df: Dask Dataframe object in which repeated rows are dropped\n",
    "    \"\"\"\n",
    "    \n",
    "    return dask_df.drop_duplicates()"
   ]
  },
  {
   "cell_type": "code",
   "execution_count": 10,
   "id": "b4dc748c",
   "metadata": {},
   "outputs": [
    {
     "data": {
      "text/html": [
       "<div>\n",
       "<style scoped>\n",
       "    .dataframe tbody tr th:only-of-type {\n",
       "        vertical-align: middle;\n",
       "    }\n",
       "\n",
       "    .dataframe tbody tr th {\n",
       "        vertical-align: top;\n",
       "    }\n",
       "\n",
       "    .dataframe thead th {\n",
       "        text-align: right;\n",
       "    }\n",
       "</style>\n",
       "<table border=\"1\" class=\"dataframe\">\n",
       "  <thead>\n",
       "    <tr style=\"text-align: right;\">\n",
       "      <th></th>\n",
       "      <th>MissingValues?</th>\n",
       "    </tr>\n",
       "  </thead>\n",
       "  <tbody>\n",
       "    <tr>\n",
       "      <th>name</th>\n",
       "      <td>True</td>\n",
       "    </tr>\n",
       "    <tr>\n",
       "      <th>recipe_id</th>\n",
       "      <td>False</td>\n",
       "    </tr>\n",
       "    <tr>\n",
       "      <th>minutes</th>\n",
       "      <td>False</td>\n",
       "    </tr>\n",
       "    <tr>\n",
       "      <th>contributor_id</th>\n",
       "      <td>False</td>\n",
       "    </tr>\n",
       "    <tr>\n",
       "      <th>submitted</th>\n",
       "      <td>False</td>\n",
       "    </tr>\n",
       "    <tr>\n",
       "      <th>tags</th>\n",
       "      <td>False</td>\n",
       "    </tr>\n",
       "    <tr>\n",
       "      <th>nutrition</th>\n",
       "      <td>False</td>\n",
       "    </tr>\n",
       "    <tr>\n",
       "      <th>n_steps</th>\n",
       "      <td>False</td>\n",
       "    </tr>\n",
       "    <tr>\n",
       "      <th>steps</th>\n",
       "      <td>False</td>\n",
       "    </tr>\n",
       "    <tr>\n",
       "      <th>description</th>\n",
       "      <td>True</td>\n",
       "    </tr>\n",
       "    <tr>\n",
       "      <th>ingredients</th>\n",
       "      <td>False</td>\n",
       "    </tr>\n",
       "    <tr>\n",
       "      <th>n_ingredients</th>\n",
       "      <td>False</td>\n",
       "    </tr>\n",
       "  </tbody>\n",
       "</table>\n",
       "</div>"
      ],
      "text/plain": [
       "                MissingValues?\n",
       "name                      True\n",
       "recipe_id                False\n",
       "minutes                  False\n",
       "contributor_id           False\n",
       "submitted                False\n",
       "tags                     False\n",
       "nutrition                False\n",
       "n_steps                  False\n",
       "steps                    False\n",
       "description               True\n",
       "ingredients              False\n",
       "n_ingredients            False"
      ]
     },
     "execution_count": 10,
     "metadata": {},
     "output_type": "execute_result"
    }
   ],
   "source": [
    "missing_values_check(recipes).compute()"
   ]
  },
  {
   "cell_type": "code",
   "execution_count": 11,
   "id": "9f14ab54",
   "metadata": {},
   "outputs": [
    {
     "data": {
      "text/html": [
       "<div>\n",
       "<style scoped>\n",
       "    .dataframe tbody tr th:only-of-type {\n",
       "        vertical-align: middle;\n",
       "    }\n",
       "\n",
       "    .dataframe tbody tr th {\n",
       "        vertical-align: top;\n",
       "    }\n",
       "\n",
       "    .dataframe thead th {\n",
       "        text-align: right;\n",
       "    }\n",
       "</style>\n",
       "<table border=\"1\" class=\"dataframe\">\n",
       "  <thead>\n",
       "    <tr style=\"text-align: right;\">\n",
       "      <th></th>\n",
       "      <th>MissingValues?</th>\n",
       "    </tr>\n",
       "  </thead>\n",
       "  <tbody>\n",
       "    <tr>\n",
       "      <th>user_id</th>\n",
       "      <td>False</td>\n",
       "    </tr>\n",
       "    <tr>\n",
       "      <th>recipe_id</th>\n",
       "      <td>False</td>\n",
       "    </tr>\n",
       "    <tr>\n",
       "      <th>date</th>\n",
       "      <td>False</td>\n",
       "    </tr>\n",
       "    <tr>\n",
       "      <th>rating</th>\n",
       "      <td>False</td>\n",
       "    </tr>\n",
       "    <tr>\n",
       "      <th>review</th>\n",
       "      <td>True</td>\n",
       "    </tr>\n",
       "  </tbody>\n",
       "</table>\n",
       "</div>"
      ],
      "text/plain": [
       "           MissingValues?\n",
       "user_id             False\n",
       "recipe_id           False\n",
       "date                False\n",
       "rating              False\n",
       "review               True"
      ]
     },
     "execution_count": 11,
     "metadata": {},
     "output_type": "execute_result"
    }
   ],
   "source": [
    "missing_values_check(interactions).compute()"
   ]
  },
  {
   "cell_type": "markdown",
   "id": "ed784d14",
   "metadata": {},
   "source": [
    "For the project use case, where two different recommender engines are to be engineered - it does not make much sense for those (recommendation) models to recommend recipes that have no name. Similarly, there are also recommendations with missing descriptions. However, it is reasonable for the recommendation models to return recipes with missing descriptions.\n",
    "\n",
    "As for the interactions dataset, the only column with missing values is the review column. Given that the recommendation models will make recommendations based on user ratings - having missing reviews should not be a problem.\n",
    "\n",
    "The approach used to handle missing values (recipe names) will be to drop them from both datasets. For example if `recipe_id = 905` is missing its name, then all `recipe_id = 905` tuples from the interactions dataset will also be dropped."
   ]
  },
  {
   "cell_type": "markdown",
   "id": "9c324905",
   "metadata": {},
   "source": [
    "## Handling Missing / Repeated Values"
   ]
  },
  {
   "cell_type": "code",
   "execution_count": 12,
   "id": "6c055bb7",
   "metadata": {},
   "outputs": [],
   "source": [
    "def remove_invalid_recipes(recipe_df, interaction_df):\n",
    "    \"\"\"\n",
    "    Remove all recipes from both dataframes which are missing their name\n",
    "    \n",
    "    recipe_df: Dask Dataframe object in which recipe information is contained\n",
    "    interaction_df: Dask Dataframe object in which ratings information is contained\n",
    "    \"\"\"\n",
    "    \n",
    "    null_name_recipes = list(recipe_df[recipe_df['name'].isnull()]['recipe_id'].compute())\n",
    "    \n",
    "    interaction_df = interaction_df[~interaction_df['recipe_id'].isin(null_name_recipes)]\n",
    "    recipe_df = recipe_df[~recipe_df['recipe_id'].isin(null_name_recipes)]\n",
    "\n",
    "    return (recipe_df, interaction_df)"
   ]
  },
  {
   "cell_type": "code",
   "execution_count": 13,
   "id": "578e33b5",
   "metadata": {},
   "outputs": [],
   "source": [
    "recipes, interactions = remove_invalid_recipes(recipes, interactions)\n",
    "recipes = normalize_columns(recipes, 'nutrition')\n",
    "recipes = repeat_values_removal(recipes)\n",
    "interactions = repeat_values_removal(interactions)"
   ]
  },
  {
   "cell_type": "markdown",
   "id": "f0aba7d4",
   "metadata": {},
   "source": [
    "## Create train / test splits"
   ]
  },
  {
   "cell_type": "code",
   "execution_count": 14,
   "id": "36e5462b",
   "metadata": {},
   "outputs": [],
   "source": [
    "# Converts dask df to pandas df\n",
    "recipes = recipes.compute()\n",
    "interactions = interactions.compute()"
   ]
  },
  {
   "cell_type": "code",
   "execution_count": 15,
   "id": "3d01dfa8",
   "metadata": {},
   "outputs": [],
   "source": [
    "interactions_TRAIN, interactions_TEST = train_test_split(interactions, test_size=0.1, random_state = 0)"
   ]
  },
  {
   "cell_type": "code",
   "execution_count": 16,
   "id": "cc1db8a4",
   "metadata": {},
   "outputs": [
    {
     "name": "stdout",
     "output_type": "stream",
     "text": [
      "Training Set:  (1019129, 5)\n",
      "Testing Set:  (113237, 5)\n"
     ]
    }
   ],
   "source": [
    "print('Training Set: ', interactions_TRAIN.shape)\n",
    "print('Testing Set: ', interactions_TEST.shape)"
   ]
  },
  {
   "cell_type": "code",
   "execution_count": 17,
   "id": "7a7cb13f",
   "metadata": {},
   "outputs": [],
   "source": [
    "ratings_count_TRAIN = interactions_TRAIN.groupby('rating')['rating'].count().reset_index(name='counts')\n",
    "ratings_count_TEST = interactions_TEST.groupby('rating')['rating'].count().reset_index(name='counts')"
   ]
  },
  {
   "cell_type": "code",
   "execution_count": 18,
   "id": "2ac88ddc",
   "metadata": {},
   "outputs": [
    {
     "data": {
      "image/png": "[encoded data removed]",
      "text/plain": [
       "<Figure size 640x480 with 2 Axes>"
      ]
     },
     "metadata": {},
     "output_type": "display_data"
    }
   ],
   "source": [
    "fig, axs = plt.subplots(2,1)\n",
    "sns.barplot(data = ratings_count_TRAIN, x = ratings_count_TRAIN['rating'], y = ratings_count_TRAIN['counts'], ax = axs[0]).set(title='Distribution of ratings in Training Set');\n",
    "sns.barplot(data = ratings_count_TEST, x = ratings_count_TEST['rating'], y = ratings_count_TEST['counts'], ax = axs[1]).set(title='Distribution of ratings in Testing Set');\n",
    "plt.tight_layout()"
   ]
  },
  {
   "cell_type": "code",
   "execution_count": 20,
   "id": "76524221",
   "metadata": {},
   "outputs": [
    {
     "data": {
      "text/html": [
       "<div>\n",
       "<style scoped>\n",
       "    .dataframe tbody tr th:only-of-type {\n",
       "        vertical-align: middle;\n",
       "    }\n",
       "\n",
       "    .dataframe tbody tr th {\n",
       "        vertical-align: top;\n",
       "    }\n",
       "\n",
       "    .dataframe thead th {\n",
       "        text-align: right;\n",
       "    }\n",
       "</style>\n",
       "<table border=\"1\" class=\"dataframe\">\n",
       "  <thead>\n",
       "    <tr style=\"text-align: right;\">\n",
       "      <th></th>\n",
       "      <th>user_id</th>\n",
       "      <th>recipe_id</th>\n",
       "      <th>date</th>\n",
       "      <th>rating</th>\n",
       "      <th>review</th>\n",
       "    </tr>\n",
       "  </thead>\n",
       "  <tbody>\n",
       "    <tr>\n",
       "      <th>29040</th>\n",
       "      <td>59801</td>\n",
       "      <td>8060</td>\n",
       "      <td>2007-12-11</td>\n",
       "      <td>5</td>\n",
       "      <td>This really is a great basic meatball recipe. ...</td>\n",
       "    </tr>\n",
       "    <tr>\n",
       "      <th>63560</th>\n",
       "      <td>104295</td>\n",
       "      <td>38353</td>\n",
       "      <td>2005-02-08</td>\n",
       "      <td>5</td>\n",
       "      <td>Very yummy.  I quartered the recipe and theref...</td>\n",
       "    </tr>\n",
       "    <tr>\n",
       "      <th>112640</th>\n",
       "      <td>58104</td>\n",
       "      <td>162999</td>\n",
       "      <td>2007-03-05</td>\n",
       "      <td>5</td>\n",
       "      <td>OK this may be a great Canadian drink! But whe...</td>\n",
       "    </tr>\n",
       "    <tr>\n",
       "      <th>3274</th>\n",
       "      <td>2000207498</td>\n",
       "      <td>2886</td>\n",
       "      <td>2015-05-16</td>\n",
       "      <td>5</td>\n",
       "      <td>Great recipe. I made a lot of changes though a...</td>\n",
       "    </tr>\n",
       "    <tr>\n",
       "      <th>125605</th>\n",
       "      <td>41695</td>\n",
       "      <td>27082</td>\n",
       "      <td>2002-06-10</td>\n",
       "      <td>4</td>\n",
       "      <td>Very easy to make and I liked it, my kids didn...</td>\n",
       "    </tr>\n",
       "  </tbody>\n",
       "</table>\n",
       "</div>"
      ],
      "text/plain": [
       "           user_id  recipe_id        date  rating  \\\n",
       "29040        59801       8060  2007-12-11       5   \n",
       "63560       104295      38353  2005-02-08       5   \n",
       "112640       58104     162999  2007-03-05       5   \n",
       "3274    2000207498       2886  2015-05-16       5   \n",
       "125605       41695      27082  2002-06-10       4   \n",
       "\n",
       "                                                   review  \n",
       "29040   This really is a great basic meatball recipe. ...  \n",
       "63560   Very yummy.  I quartered the recipe and theref...  \n",
       "112640  OK this may be a great Canadian drink! But whe...  \n",
       "3274    Great recipe. I made a lot of changes though a...  \n",
       "125605  Very easy to make and I liked it, my kids didn...  "
      ]
     },
     "execution_count": 20,
     "metadata": {},
     "output_type": "execute_result"
    }
   ],
   "source": [
    "interactions_TRAIN.head()"
   ]
  },
  {
   "cell_type": "code",
   "execution_count": 19,
   "id": "87178926",
   "metadata": {},
   "outputs": [],
   "source": [
    "if not os.path.exists(\"./clean_data\"):\n",
    "    os.makedirs(\"./clean_data\")\n",
    "\n",
    "recipes.to_csv('./clean_data/recipes.csv')\n",
    "interactions_TRAIN.to_csv('./clean_data/interactions_TRAIN.csv')\n",
    "interactions_TEST.to_csv('./clean_data/interactions_TEST.csv')"
   ]
  }
 ],
 "metadata": {
  "kernelspec": {
   "display_name": "Python 3 (ipykernel)",
   "language": "python",
   "name": "python3"
  },
  "language_info": {
   "codemirror_mode": {
    "name": "ipython",
    "version": 3
   },
   "file_extension": ".py",
   "mimetype": "text/x-python",
   "name": "python",
   "nbconvert_exporter": "python",
   "pygments_lexer": "ipython3",
   "version": "3.9.12"
  }
 },
 "nbformat": 4,
 "nbformat_minor": 5
}

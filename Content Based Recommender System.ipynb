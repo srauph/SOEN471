{
 "cells": [
  {
   "cell_type": "markdown",
   "id": "5818723e-1e4e-4dc5-aef8-9242948d5275",
   "metadata": {},
   "source": [
    "<h1 style='text-align:center'>Content Based Recommender System for Recipes<h1/>"
   ]
  },
  {
   "cell_type": "code",
   "execution_count": 25,
   "id": "58e62024",
   "metadata": {},
   "outputs": [],
   "source": [
    "import pandas as pd\n",
    "import numpy as np\n",
    "import dask.dataframe as dd\n",
    "import os\n",
    "import seaborn as sns\n",
    "from collections import Counter\n",
    "import plotly.express as px\n",
    "import plotly.graph_objects as go\n",
    "from sklearn.feature_extraction.text import TfidfVectorizer\n",
    "from sklearn.metrics.pairwise import cosine_similarity\n",
    "import math\n",
    "import warnings\n",
    "\n",
    "from scipy.sparse import csr_matrix\n",
    "warnings.filterwarnings(\"ignore\")"
   ]
  },
  {
   "cell_type": "code",
   "execution_count": 26,
   "id": "ad07ed10",
   "metadata": {},
   "outputs": [],
   "source": [
    "ratings = dd.read_csv('./clean_data/interactions_TRAIN.csv').drop('Unnamed: 0', axis=1)\n",
    "ratings_test = dd.read_csv('./clean_data/interactions_TRAIN.csv').drop('Unnamed: 0', axis=1)\n",
    "recipes = dd.read_csv('./clean_data/recipes.csv').drop('Unnamed: 0', axis=1)"
   ]
  },
  {
   "cell_type": "markdown",
   "id": "e33dbb09",
   "metadata": {},
   "source": [
    "---"
   ]
  },
  {
   "cell_type": "markdown",
   "id": "e5fb9d45",
   "metadata": {},
   "source": [
    "# Item Profiles based on TF-IDF of tags column"
   ]
  },
  {
   "cell_type": "markdown",
   "id": "c28c7c34-c357-4994-9f9d-f90841052e67",
   "metadata": {},
   "source": [
    "In this approach of a content based recommendation engine - item profiles (and user profiles) are constructed using the TF-IDF of the `tags` column. The reason for this is because the `tags` column provides descriptive words for the associated recipes. An argument can be made to use the `description` column instead. However, `tags` was used instead for two reasons.\n",
    "\n",
    "1. The `tags` column has no null values.\n",
    "2. The `description` column is user generated - where as the `tags` column is not. The tags column is free from typos and other english words that may have hindered the performance of the TF-IDF vectorizer.\n",
    "\n",
    "Below is a description of TF-IDF"
   ]
  },
  {
   "cell_type": "markdown",
   "id": "56bfe093-dcfe-4ee3-ab56-33307460ad94",
   "metadata": {},
   "source": [
    "TF (Term Frequency):\n",
    "$$\n",
    "\\text{TF}(t,d) = \\frac{n_{t,d}}{\\sum_{k}n_{k,d}}\n",
    "$$\n",
    "\n",
    "where $n_{t,d}$ is the number of times term $t$ appears in document $d$, and $\\sum_{k}n_{k,d}$ is the total number of terms in document $d$. This formula calculates the relative frequency of term $t$ in document $d$.\n",
    "\n",
    "IDF (Inverse Document Frequency):\n",
    "$$\n",
    "\\text{IDF}(t,D) = \\log{\\frac{|D|}{|\\{d \\in D : t \\in d\\}|}}\n",
    "$$\n",
    "\n",
    "where $|D|$ is the total number of documents in the corpus $D$, and $|\\{d \\in D : t \\in d\\}|$ is the number of documents in the corpus that contain the term $t$. This formula measures the rarity of the term $t$ in the corpus $D$.\n",
    "\n",
    "TF-IDF (Term Frequency - Inverse Document Frequency):\n",
    "$$\n",
    "\\text{TF-IDF}(t,d,D) = \\text{TF}(t,d) \\times \\text{IDF}(t,D)\n",
    "$$\n",
    "\n",
    "where $\\text{TF}(t,d)$ is the term frequency of term $t$ in document $d$, and $\\text{IDF}(t,D)$ is the inverse document frequency of term $t$ in the corpus $D$. This formula combines the relative frequency of term $t$ in document $d$ with the rarity of term $t$ in the corpus $D$, giving higher weights to terms that are both frequent in the document and rare in the corpus."
   ]
  },
  {
   "cell_type": "markdown",
   "id": "ad2e604f-12a8-42ef-8dea-dcab9d859e42",
   "metadata": {},
   "source": [
    "Cosine Similarity:\n",
    "$$\n",
    "\\text{similarity}(\\textbf{v},\\textbf{w}) = \\frac{\\textbf{v} \\cdot \\textbf{w}}{\\|\\textbf{v}\\| \\|\\textbf{w}\\|}\n",
    "$$\n",
    "\n",
    "where $\\textbf{v}$ and $\\textbf{w}$ are two vectors, and $\\textbf{v} \\cdot \\textbf{w}$ is the dot product of the vectors, and $\\|\\textbf{v}\\|$ and $\\|\\textbf{w}\\|$ are the magnitudes of the vectors. This formula calculates the cosine of the angle between the two vectors, which measures how similar they are in direction. The result is a value between -1 and 1, where values closer to 1 indicate higher similarity."
   ]
  },
  {
   "cell_type": "code",
   "execution_count": 27,
   "id": "d39363ef",
   "metadata": {
    "tags": []
   },
   "outputs": [],
   "source": [
    "class TFIDF_Recommendations():\n",
    "    \n",
    "    def __init__(self, recipes, ratings):\n",
    "        self.recipes = recipes\n",
    "        self.recipes['tags'] = self.recipes['tags'].map(eval, meta=('x', int)).map(lambda x: ' '.join(x), meta=('x', str))\n",
    "        self.flag = False\n",
    "        self.recipes.drop_duplicates(subset='recipe_id')\n",
    "        \n",
    "        # Compute weighted ratings for train\n",
    "        self.ratings = ratings.merge(self.recipes, on = 'recipe_id')\n",
    "        self.ratings.drop(['date', 'minutes', 'contributor_id', 'submitted', 'n_steps', 'description', 'ingredients', 'n_ingredients', 'Calories', 'Total_fat_PDV', 'Sugar_PDV', 'Sodium_PDV', 'Protein_PDV', 'Saturated_fat_PDV', 'Carbohydrates_PDV', 'steps'], axis=1)\n",
    "        \n",
    "        mean_user_ratings = self.ratings.groupby('user_id')['rating'].mean().rename('mean_user_rating')\n",
    "        self.ratings = self.ratings.join(mean_user_ratings, on='user_id')\n",
    "        self.ratings['weighted_rating'] = self.ratings['rating'] - self.ratings['mean_user_rating']\n",
    "        \n",
    "        # Filter recipes to only those referenced in an interaction in our training set\n",
    "        rated_recipes = self.ratings['recipe_id'].unique().compute()\n",
    "        self.recipes = self.recipes[self.recipes['recipe_id'].isin(rated_recipes)]\n",
    "        \n",
    "        # Compute weighted ratings for test\n",
    "        self.ratings_test = ratings_test.merge(self.recipes, on = 'recipe_id')\n",
    "        self.ratings_test.drop(['date', 'minutes', 'contributor_id', 'submitted', 'n_steps', 'description', 'ingredients', 'n_ingredients', 'Calories', 'Total_fat_PDV', 'Sugar_PDV', 'Sodium_PDV', 'Protein_PDV', 'Saturated_fat_PDV', 'Carbohydrates_PDV', 'steps'], axis=1)\n",
    "        \n",
    "        mean_user_ratings = self.ratings_test.groupby('user_id')['rating'].mean().rename('mean_user_rating')\n",
    "        self.ratings_test = self.ratings_test.join(mean_user_ratings, on='user_id')\n",
    "        self.ratings_test['weighted_rating'] = self.ratings_test['rating'] - self.ratings_test['mean_user_rating']\n",
    "        \n",
    "        # Compute TFDIF matrices\n",
    "        self.tfidf = TfidfVectorizer(stop_words='english', token_pattern=r\"(?u)\\S\\S+\")\n",
    "        \n",
    "        self.tfidf_ratings_matrix = self.tfidf.fit_transform(self.ratings['tags'])\n",
    "        self.tfidf_recipes_matrix = self.tfidf.fit_transform(self.recipes['tags'])\n",
    "    \n",
    "    \n",
    "    def display_tag_distribution(self):\n",
    "        \n",
    "        tags_count = self.recipes['tags'].str.split().map(Counter).sum().compute().most_common()\n",
    "        fig = px.bar(tags_count,\n",
    "                     x = 0,\n",
    "                     y = 1,\n",
    "                     log_y = True,\n",
    "                     title = \"Count Distribution of Tags Column\")\n",
    "        fig.update_layout(\n",
    "            xaxis_title=\"Tag Names\",\n",
    "            yaxis_title=\"Counts\",\n",
    "            yaxis = dict(\n",
    "                tickmode = 'linear',\n",
    "                tick0 = 0,\n",
    "                dtick = 1\n",
    "    ))\n",
    "    \n",
    "        return fig\n",
    "    \n",
    "    \n",
    "    def generate_user_profile(self, user_id):\n",
    "        rows = self.ratings.query(f'user_id == {user_id}')\n",
    "        \n",
    "        indices = rows.index.compute()\n",
    "        \n",
    "    \n",
    "        ratings = self.ratings.compute().reset_index()\n",
    "        user_profile = 0\n",
    "        for index in indices:\n",
    "            user_profile += self.tfidf_ratings_matrix[index] * ratings.loc[index]['weighted_rating']\n",
    "\n",
    "        return user_profile\n",
    "        \n",
    "    \n",
    "    def generate_recommendations(self, user_id):\n",
    "        similar_recipes = []\n",
    "        curr_similarity = 0\n",
    "        user_profile = self.generate_user_profile(user_id)\n",
    "        collected_profile = user_profile\n",
    "    \n",
    "        recipes = self.recipes.compute().reset_index()\n",
    "        \n",
    "        for i in range(0, self.tfidf_recipes_matrix.shape[0]):\n",
    "            curr_similarity = cosine_similarity(self.tfidf_recipes_matrix[i], collected_profile)\n",
    "            similar_recipes.append((curr_similarity[0][0], recipes.loc[i]['recipe_id'], i))\n",
    "        \n",
    "        similar_recipes = sorted(similar_recipes, key = lambda x: x[0], reverse=True)\n",
    "        \n",
    "        return similar_recipes\n",
    "    \n",
    "    def display_recommendations(self, recommendations, n):\n",
    "        toReturn = []\n",
    "        \n",
    "        similar_recipes = recommendations[:n]\n",
    "        \n",
    "        recipes = self.recipes.compute().reset_index()\n",
    "        for sim, _, idx in similar_recipes:\n",
    "            recipe = recipes.loc[idx]['name']\n",
    "            toReturn.append(recipe)\n",
    "        \n",
    "        return toReturn\n",
    "    \n",
    "    \n",
    "    def display_similar_recipes_heatmap(self, user_id, similar_recipes):\n",
    "        sim_scores = list(map(lambda x: x[0], similar_recipes))\n",
    "        recipe_ids = list(map(lambda x: str(x), map(lambda x: x[1], similar_recipes)))\n",
    "\n",
    "        heatmap_trace = go.Heatmap(x=recipe_ids, y=[f'User_id: {user_id}'], z=[sim_scores], colorscale='Viridis')\n",
    "\n",
    "        # Create the layout for the plot\n",
    "        layout = go.Layout(title=f'Similar recipes for {user_id}',\n",
    "                           xaxis=dict(title='X-Axis', tickangle=-90),\n",
    "                           yaxis=dict(title='Y-Axis', ticktext=[f'User_id: {user_id}'], tickvals=[0]),\n",
    "                           height=600,\n",
    "                           width=1000)\n",
    "\n",
    "        # Create the figure and plot the heatmap\n",
    "        fig = go.Figure(data=[heatmap_trace], layout=layout)\n",
    "\n",
    "        return fig\n",
    "    \n",
    "    \n",
    "    def evaluate_model(self, recommendations, user_id):\n",
    "        # Turn recommendations into a dask dataframe\n",
    "        recommendations_np = np.array(recommendations)\n",
    "        recommendations = dd.from_array(recommendations_np, columns=['prediction', 'recipe_id', 'index'])\n",
    "        \n",
    "        # Grab the ratings dataframe to be used for testing, and filter it to only those of this user id\n",
    "        ratings_test_by_user = self.ratings_test.query(f'user_id == {user_id}')\n",
    "        \n",
    "        # Merge the recommendations and ratings dataframe to more easily compute RMSE\n",
    "        ratings_list = ratings_test_by_user.merge(recommendations, on='recipe_id')\n",
    "        \n",
    "        # Add the mean user rating back to get the true predicted rating\n",
    "        ratings_list['prediction'] = ratings_list['prediction'] + ratings_list['mean_user_rating']\n",
    "\n",
    "        # RMSE = SQRT[SUM[(prediction - rating)^2]]\n",
    "        ratings_list = ratings_list.assign(temp=lambda x: (x.prediction - x.rating)*(x.prediction - x.rating))\n",
    "        rmse_sum = ratings_list['temp'].sum().compute()\n",
    "        rmse = math.sqrt(rmse_sum)\n",
    "\n",
    "        return rmse\n",
    "\n",
    "        "
   ]
  },
  {
   "cell_type": "code",
   "execution_count": 28,
   "id": "eafc1661",
   "metadata": {},
   "outputs": [],
   "source": [
    "obj = TFIDF_Recommendations(recipes, ratings)"
   ]
  },
  {
   "cell_type": "code",
   "execution_count": 29,
   "id": "74a4a1ec-4454-4603-a2c5-51c396e632e6",
   "metadata": {
    "tags": []
   },
   "outputs": [
    {
     "data": {
      "application/vnd.plotly.v1+json": {
       "config": {
        "plotlyServerURL": "https://plot.ly"
       },
       "data": [
        {
         "alignmentgroup": "True",
         "hovertemplate": "0=%{x}<br>1=%{y}<extra></extra>",
         "legendgroup": "",
         "marker": {
          "color": "#636efa",
          "pattern": {
           "shape": ""
          }
         },
         "name": "",
         "offsetgroup": "",
         "orientation": "v",
         "showlegend": false,
         "textposition": "auto",
         "type": "bar",
         "x": [
          "preparation",
          "time-to-make",
          "course",
          "main-ingredient",
          "dietary",
          "easy",
          "occasion",
          "cuisine",
          "low-in-something",
          "main-dish",
          "equipment",
          "60-minutes-or-less",
          "number-of-servings",
          "meat",
          "30-minutes-or-less",
          "vegetables",
          "taste-mood",
          "4-hours-or-less",
          "north-american",
          "3-steps-or-less",
          "15-minutes-or-less",
          "low-sodium",
          "desserts",
          "low-carb",
          "healthy",
          "dinner-party",
          "low-cholesterol",
          "low-calorie",
          "vegetarian",
          "beginner-cook",
          "5-ingredients-or-less",
          "holiday-event",
          "inexpensive",
          "low-protein",
          "oven",
          "low-saturated-fat",
          "fruit",
          "american",
          "eggs-dairy",
          "kid-friendly",
          "pasta-rice-and-grains",
          "side-dishes",
          "healthy-2",
          "comfort-food",
          "european",
          "presentation",
          "poultry",
          "lunch",
          "for-1-or-2",
          "stove-top",
          "low-fat",
          "seasonal",
          "weeknight",
          "chicken",
          "appetizers",
          "brunch",
          "to-go",
          "for-large-groups",
          "beef",
          "one-dish-meal",
          "cheese",
          "seafood",
          "salads",
          "breads",
          "breakfast",
          "asian",
          "pasta",
          "pork",
          "cookies-and-brownies",
          "served-hot",
          "condiments-etc",
          "free-of-something",
          "technique",
          "high-in-something",
          "soups-stews",
          "beverages",
          "potluck",
          "sweet",
          "savory",
          "potatoes",
          "summer",
          "vegan",
          "cakes",
          "beans",
          "chocolate",
          "very-low-carbs",
          "small-appliance",
          "eggs",
          "spicy",
          "christmas",
          "chicken-breasts",
          "ground-beef",
          "picnic",
          "fall",
          "winter",
          "served-cold",
          "fish",
          "italian",
          "high-protein",
          "southern-united-states",
          "snacks",
          "nuts",
          "gifts",
          "shellfish",
          "mexican",
          "crock-pot-slow-cooker",
          "finger-food",
          "casseroles",
          "diabetic",
          "no-cook",
          "rice",
          "grains",
          "sandwiches",
          "berries",
          "gluten-free",
          "quick-breads",
          "tomatoes",
          "sauces",
          "tropical-fruit",
          "onions",
          "romantic",
          "saltwater-fish",
          "egg-free",
          "apples",
          "high-calcium",
          "food-processor-blender",
          "grilling",
          "refrigerator",
          "pies-and-tarts",
          "dips",
          "novelty",
          "heirloom-historical",
          "canadian",
          "kosher",
          "toddler-friendly",
          "thanksgiving",
          "cocktails",
          "shrimp",
          "oamc-freezer-make-ahead",
          "barbecue",
          "lactose",
          "spring",
          "citrus",
          "greens",
          "south-west-pacific",
          "squash",
          "southwestern-united-states",
          "bar-cookies",
          "mushrooms",
          "pies",
          "brown-bag",
          "peppers",
          "yeast",
          "drop-cookies",
          "carrots",
          "midwestern",
          "african",
          "australian",
          "valentines-day",
          "indian",
          "from-scratch",
          "muffins",
          "northeastern-united-states",
          "turkey",
          "new-years",
          "puddings-and-mousses",
          "corn",
          "greek",
          "easter",
          "independence-day",
          "salad-dressings",
          "candy",
          "copycat",
          "spreads",
          "pancakes-and-waffles",
          "french",
          "pineapple",
          "salmon",
          "broccoli",
          "strawberries",
          "microwave",
          "1-day-or-more",
          "bananas",
          "middle-eastern",
          "savory-sauces",
          "chinese",
          "pork-sausage",
          "frozen-desserts",
          "rolls-biscuits",
          "hand-formed-cookies",
          "spinach",
          "superbowl",
          "broil",
          "smoothies",
          "central-american",
          "pitted-fruit",
          "bisques-cream-soups",
          "english",
          "bacon",
          "coconut",
          "caribbean",
          "mixer",
          "lemon",
          "stir-fry",
          "chili",
          "ham",
          "spaghetti",
          "chicken-thighs-legs",
          "stews",
          "pork-chops",
          "freezer",
          "camping",
          "elbow-macaroni",
          "asparagus",
          "tuna",
          "black-beans",
          "lamb-sheep",
          "pizza",
          "cheesecake",
          "yams-sweet-potatoes",
          "tex-mex",
          "oranges",
          "savory-pies",
          "curries",
          "blueberries",
          "crab",
          "green-yellow-beans",
          "german",
          "cake-fillings-and-frostings",
          "scandinavian",
          "omelets-and-frittatas",
          "bread-machine",
          "lentils",
          "soy-tofu",
          "south-american",
          "long-grain-rice",
          "marinades-and-rubs",
          "roast-beef",
          "thai",
          "cajun",
          "cobblers-and-crisps",
          "pork-loins",
          "chick-peas-garbanzos",
          "roast",
          "cauliflower",
          "deep-fry",
          "granola-and-porridge",
          "penne",
          "white-rice",
          "steaks",
          "spanish",
          "wedding",
          "whole-chicken",
          "steak",
          "raspberries",
          "chowders",
          "coffee-cakes",
          "cooking-mixes",
          "canning",
          "brownies",
          "punch",
          "freshwater-fish",
          "lettuces",
          "moroccan",
          "pacific-northwest",
          "rolled-cookies",
          "peaches",
          "creole",
          "lasagna",
          "cupcakes",
          "japanese",
          "sweet-sauces",
          "st-patricks-day",
          "californian",
          "jams-and-preserves",
          "shakes",
          "ontario",
          "scottish",
          "brown-rice",
          "halloween",
          "herb-and-spice-mixes",
          "ravioli-tortellini",
          "pears",
          "hanukkah",
          "fudge",
          "melons",
          "salsas",
          "irish",
          "mango",
          "gelatin",
          "lime",
          "scones",
          "new-zealand",
          "british-columbian",
          "wings",
          "celebrity",
          "flat-shapes",
          "jewish-ashkenazi",
          "scallops",
          "stuffings-dressings",
          "clear-soups",
          "wild-game",
          "pork-ribs",
          "cherries",
          "garnishes",
          "pasta-shells",
          "tarts",
          "hawaiian",
          "passover",
          "steam",
          "polish",
          "cod",
          "rosh-hashana",
          "infant-baby-friendly",
          "beef-sausage",
          "stocks",
          "water-bath",
          "crusts-pastry-dough-2",
          "swiss",
          "russian",
          "tilapia",
          "swedish",
          "portuguese",
          "vietnamese",
          "mardi-gras-carnival",
          "clams",
          "south-african",
          "veal",
          "short-grain-rice",
          "hungarian",
          "high-fiber",
          "halibut",
          "biscotti",
          "pressure-cooker",
          "lebanese",
          "non-alcoholic",
          "leftovers",
          "kwanzaa",
          "baking",
          "turkish",
          "turkey-breasts",
          "burgers",
          "ramadan",
          "simply-potatoes",
          "iranian-persian",
          "deer",
          "beef-ribs",
          "cuban",
          "korean",
          "sole-and-flounder",
          "brazilian",
          "grapes",
          "danish",
          "super-bowl",
          "birthday",
          "dutch",
          "indonesian",
          "amish-mennonite",
          "nut-free",
          "filipino",
          "soul",
          "polynesian",
          "mussels",
          "welsh",
          "peanut-butter",
          "egyptian",
          "gumbo",
          "norwegian",
          "dairy-free",
          "lobster",
          "whole-turkey",
          "catfish",
          "jewish-sephardi",
          "quebec",
          "chutneys",
          "zucchini",
          "jellies",
          "oysters",
          "finnish",
          "papaya",
          "duck",
          "plums",
          "austrian",
          "pennsylvania-dutch",
          "native-american",
          "belgian",
          "baja",
          "no-shell-fish",
          "smoker",
          "manicotti",
          "chard",
          "beef-organ-meats",
          "kiwifruit",
          "pakistani",
          "czech",
          "sourdough",
          "trout",
          "argentine",
          "collard-greens",
          "peruvian",
          "malaysian",
          "medium-grain-rice",
          "szechuan",
          "meatloaf",
          "mahi-mahi",
          "avocado",
          "puerto-rican",
          "saudi-arabian",
          "bok-choys",
          "hidden-valley-ranch",
          "mashed-potatoes",
          "iraqi",
          "eggplant",
          "crawfish",
          "palestinian",
          "meatballs",
          "beef-liver",
          "cantonese",
          "squid",
          "pumpkin",
          "ethiopian",
          "chicken-livers",
          "bass",
          "orange-roughy",
          "chilean",
          "whitefish",
          "colombian",
          "reynolds-wrap",
          "chocolate-chip-cookies",
          "oaxacan",
          "tempeh",
          "ice-cream",
          "macaroni-and-cheese",
          "cinco-de-mayo",
          "brewing",
          "turkey-burgers",
          "rabbit",
          "dehydrator",
          "labor-day",
          "unprocessed-freezer",
          "oatmeal",
          "duck-breasts",
          "micro-melanesia",
          "mothers-day",
          "costa-rican",
          "nepalese",
          "venezuelan",
          "memorial-day",
          "rosh-hashanah",
          "cambodian",
          "icelandic",
          "whole-duck",
          "ragu-recipe-contest",
          "artichoke",
          "a1-sauce",
          "pressure-canning",
          "pheasant",
          "veggie-burgers",
          "libyan",
          "ecuadorean",
          "nigerian",
          "guatemalan",
          "college",
          "elk",
          "hunan",
          "pot-pie",
          "perch",
          "fathers-day",
          "quiche",
          "moose",
          "fillings-and-frostings-chocolate",
          "honduran",
          "sugar-cookies",
          "goose",
          "quail",
          "beijing",
          "georgian",
          "sudanese",
          "laotian",
          "halloween-cupcakes",
          "octopus",
          "angolan",
          "mongolian",
          "chinese-new-year",
          "congolese",
          "halloween-cakes",
          "dips-lunch-snacks",
          "pasta-elbow-macaroni",
          "somalian",
          "april-fools-day",
          "pickeral",
          "simply-potatoes2",
          "bear",
          "beef-kidney",
          "main-dish-pork",
          "namibian",
          "prepared-potatoes",
          "halloween-cocktails",
          "main-dish-beef",
          "main-dish-chicken",
          "breakfast-eggs",
          "spaghetti-sauce",
          "heirloom-historical-recipes",
          "side-dishes-beans",
          "beans-side-dishes",
          "pasta-salad",
          "crock-pot-main-dish",
          "eggs-breakfast",
          "beef-crock-pot",
          "pot-roast",
          "beef-sauces",
          "pork-loins-roast",
          "baked-beans",
          "snacks-kid-friendly",
          "snacks-sweet",
          "main-dish-pasta",
          "pork-crock-pot",
          "desserts-fruit",
          "desserts-easy",
          "lasagne",
          "cabbage",
          "middle-eastern-main-dish",
          "high-in-something-diabetic-friendly",
          "dips-summer",
          "black-bean-soup",
          "bean-soup",
          "served-hot-new-years",
          "ham-and-bean-soup",
          "lamb-sheep-main-dish",
          "for-large-groups-holiday-event",
          "stews-poultry",
          "pasta-rice-and-grains-elbow-macaroni",
          "pork-loin",
          "cranberry-sauce",
          "marinara-sauce",
          "breakfast-casseroles",
          "breakfast-potatoes",
          "main-dish-seafood",
          "shrimp-main-dish",
          "pumpkin-bread",
          "bread-pudding",
          "less_thansql:name_topics_of_recipegreater_than",
          "chicken-crock-pot",
          "chicken-stews",
          "chicken-stew",
          "Throw",
          "the",
          "ultimate",
          "fiesta",
          "with",
          "this",
          "sopaipillas",
          "recipe",
          "from",
          "Food.com.",
          "roast-beef-main-dish",
          "roast-beef-comfort-food"
         ],
         "xaxis": "x",
         "y": [
          220890,
          215913,
          208999,
          163561,
          158624,
          120891,
          109595,
          87483,
          82355,
          68788,
          68076,
          67064,
          56639,
          53763,
          52766,
          51711,
          50134,
          47306,
          46597,
          42883,
          42192,
          41568,
          41317,
          40541,
          38690,
          36029,
          35231,
          34925,
          34224,
          34165,
          34034,
          33599,
          31337,
          31220,
          30149,
          30079,
          30047,
          29945,
          28993,
          26106,
          25990,
          25818,
          25543,
          25165,
          23877,
          23483,
          23173,
          22876,
          22158,
          21345,
          21249,
          21039,
          20087,
          19568,
          19539,
          18185,
          17878,
          16616,
          16412,
          16090,
          14587,
          14140,
          14053,
          13969,
          13121,
          12926,
          12379,
          12189,
          11981,
          11554,
          11378,
          11339,
          11106,
          11030,
          10863,
          10667,
          10324,
          10119,
          10103,
          9890,
          9638,
          9602,
          9196,
          9160,
          9027,
          8837,
          8236,
          8220,
          7914,
          7841,
          7809,
          7780,
          7544,
          7438,
          7355,
          7227,
          7132,
          7090,
          6930,
          6847,
          6836,
          6766,
          6658,
          6655,
          6451,
          6398,
          6241,
          6231,
          6183,
          5965,
          5770,
          5766,
          5604,
          5592,
          5524,
          5456,
          5451,
          5331,
          5135,
          5053,
          4989,
          4982,
          4848,
          4727,
          4723,
          4682,
          4646,
          4634,
          4562,
          4538,
          4499,
          4419,
          4405,
          4257,
          4248,
          4214,
          4127,
          4083,
          4069,
          4007,
          3937,
          3926,
          3905,
          3882,
          3792,
          3546,
          3410,
          3260,
          3183,
          3081,
          3079,
          3044,
          3025,
          2903,
          2794,
          2763,
          2739,
          2735,
          2586,
          2573,
          2569,
          2558,
          2474,
          2441,
          2401,
          2376,
          2326,
          2304,
          2302,
          2287,
          2287,
          2268,
          2258,
          2201,
          2200,
          2192,
          2186,
          2157,
          2156,
          2143,
          2058,
          2025,
          2023,
          1997,
          1972,
          1932,
          1913,
          1886,
          1826,
          1821,
          1817,
          1808,
          1804,
          1797,
          1756,
          1747,
          1744,
          1676,
          1664,
          1656,
          1649,
          1643,
          1643,
          1635,
          1615,
          1586,
          1576,
          1535,
          1533,
          1531,
          1509,
          1506,
          1491,
          1490,
          1476,
          1463,
          1457,
          1452,
          1450,
          1439,
          1426,
          1409,
          1381,
          1375,
          1374,
          1343,
          1336,
          1315,
          1240,
          1237,
          1234,
          1209,
          1208,
          1197,
          1196,
          1190,
          1184,
          1166,
          1158,
          1156,
          1149,
          1143,
          1136,
          1113,
          1090,
          1080,
          1065,
          1060,
          1041,
          1033,
          1029,
          1014,
          1009,
          1003,
          1002,
          994,
          983,
          973,
          966,
          939,
          933,
          913,
          870,
          862,
          855,
          840,
          835,
          825,
          824,
          824,
          819,
          817,
          803,
          795,
          776,
          758,
          692,
          685,
          676,
          676,
          672,
          670,
          667,
          654,
          653,
          645,
          639,
          639,
          636,
          630,
          627,
          623,
          622,
          617,
          614,
          608,
          596,
          589,
          587,
          561,
          555,
          512,
          510,
          504,
          481,
          465,
          435,
          429,
          421,
          417,
          396,
          395,
          390,
          387,
          387,
          378,
          373,
          370,
          363,
          363,
          357,
          354,
          342,
          334,
          327,
          318,
          311,
          310,
          307,
          304,
          300,
          299,
          298,
          297,
          296,
          291,
          285,
          283,
          280,
          276,
          271,
          266,
          265,
          262,
          247,
          246,
          244,
          243,
          243,
          237,
          235,
          234,
          226,
          218,
          217,
          216,
          208,
          207,
          203,
          202,
          201,
          199,
          199,
          195,
          193,
          192,
          189,
          189,
          188,
          184,
          182,
          182,
          182,
          180,
          180,
          171,
          168,
          164,
          163,
          162,
          161,
          161,
          161,
          159,
          156,
          156,
          152,
          146,
          146,
          145,
          142,
          140,
          136,
          132,
          132,
          131,
          123,
          122,
          120,
          117,
          114,
          110,
          110,
          106,
          106,
          105,
          104,
          100,
          100,
          100,
          99,
          93,
          92,
          91,
          90,
          88,
          88,
          86,
          84,
          82,
          82,
          79,
          78,
          77,
          73,
          70,
          70,
          70,
          69,
          68,
          67,
          66,
          66,
          61,
          56,
          54,
          54,
          52,
          51,
          50,
          50,
          50,
          49,
          48,
          47,
          47,
          47,
          46,
          44,
          44,
          43,
          43,
          43,
          42,
          41,
          40,
          39,
          38,
          38,
          36,
          36,
          34,
          33,
          30,
          30,
          26,
          25,
          25,
          23,
          21,
          21,
          21,
          20,
          18,
          18,
          17,
          15,
          15,
          14,
          13,
          13,
          12,
          12,
          11,
          11,
          11,
          11,
          9,
          7,
          7,
          7,
          6,
          6,
          6,
          5,
          5,
          5,
          4,
          3,
          3,
          2,
          2,
          2,
          2,
          2,
          2,
          2,
          1,
          1,
          1,
          1,
          1,
          1,
          1,
          1,
          1,
          1,
          1,
          1,
          1,
          1,
          1,
          1,
          1,
          1,
          1,
          1,
          1,
          1,
          1,
          1,
          1,
          1,
          1,
          1,
          1,
          1,
          1,
          1,
          1,
          1,
          1,
          1,
          1,
          1,
          1,
          1,
          1,
          1,
          1,
          1,
          1,
          1,
          1,
          1,
          1,
          1
         ],
         "yaxis": "y"
        }
       ],
       "layout": {
        "barmode": "relative",
        "legend": {
         "tracegroupgap": 0
        },
        "template": {
         "data": {
          "bar": [
           {
            "error_x": {
             "color": "#2a3f5f"
            },
            "error_y": {
             "color": "#2a3f5f"
            },
            "marker": {
             "line": {
              "color": "#E5ECF6",
              "width": 0.5
             },
             "pattern": {
              "fillmode": "overlay",
              "size": 10,
              "solidity": 0.2
             }
            },
            "type": "bar"
           }
          ],
          "barpolar": [
           {
            "marker": {
             "line": {
              "color": "#E5ECF6",
              "width": 0.5
             },
             "pattern": {
              "fillmode": "overlay",
              "size": 10,
              "solidity": 0.2
             }
            },
            "type": "barpolar"
           }
          ],
          "carpet": [
           {
            "aaxis": {
             "endlinecolor": "#2a3f5f",
             "gridcolor": "white",
             "linecolor": "white",
             "minorgridcolor": "white",
             "startlinecolor": "#2a3f5f"
            },
            "baxis": {
             "endlinecolor": "#2a3f5f",
             "gridcolor": "white",
             "linecolor": "white",
             "minorgridcolor": "white",
             "startlinecolor": "#2a3f5f"
            },
            "type": "carpet"
           }
          ],
          "choropleth": [
           {
            "colorbar": {
             "outlinewidth": 0,
             "ticks": ""
            },
            "type": "choropleth"
           }
          ],
          "contour": [
           {
            "colorbar": {
             "outlinewidth": 0,
             "ticks": ""
            },
            "colorscale": [
             [
              0,
              "#0d0887"
             ],
             [
              0.1111111111111111,
              "#46039f"
             ],
             [
              0.2222222222222222,
              "#7201a8"
             ],
             [
              0.3333333333333333,
              "#9c179e"
             ],
             [
              0.4444444444444444,
              "#bd3786"
             ],
             [
              0.5555555555555556,
              "#d8576b"
             ],
             [
              0.6666666666666666,
              "#ed7953"
             ],
             [
              0.7777777777777778,
              "#fb9f3a"
             ],
             [
              0.8888888888888888,
              "#fdca26"
             ],
             [
              1,
              "#f0f921"
             ]
            ],
            "type": "contour"
           }
          ],
          "contourcarpet": [
           {
            "colorbar": {
             "outlinewidth": 0,
             "ticks": ""
            },
            "type": "contourcarpet"
           }
          ],
          "heatmap": [
           {
            "colorbar": {
             "outlinewidth": 0,
             "ticks": ""
            },
            "colorscale": [
             [
              0,
              "#0d0887"
             ],
             [
              0.1111111111111111,
              "#46039f"
             ],
             [
              0.2222222222222222,
              "#7201a8"
             ],
             [
              0.3333333333333333,
              "#9c179e"
             ],
             [
              0.4444444444444444,
              "#bd3786"
             ],
             [
              0.5555555555555556,
              "#d8576b"
             ],
             [
              0.6666666666666666,
              "#ed7953"
             ],
             [
              0.7777777777777778,
              "#fb9f3a"
             ],
             [
              0.8888888888888888,
              "#fdca26"
             ],
             [
              1,
              "#f0f921"
             ]
            ],
            "type": "heatmap"
           }
          ],
          "heatmapgl": [
           {
            "colorbar": {
             "outlinewidth": 0,
             "ticks": ""
            },
            "colorscale": [
             [
              0,
              "#0d0887"
             ],
             [
              0.1111111111111111,
              "#46039f"
             ],
             [
              0.2222222222222222,
              "#7201a8"
             ],
             [
              0.3333333333333333,
              "#9c179e"
             ],
             [
              0.4444444444444444,
              "#bd3786"
             ],
             [
              0.5555555555555556,
              "#d8576b"
             ],
             [
              0.6666666666666666,
              "#ed7953"
             ],
             [
              0.7777777777777778,
              "#fb9f3a"
             ],
             [
              0.8888888888888888,
              "#fdca26"
             ],
             [
              1,
              "#f0f921"
             ]
            ],
            "type": "heatmapgl"
           }
          ],
          "histogram": [
           {
            "marker": {
             "pattern": {
              "fillmode": "overlay",
              "size": 10,
              "solidity": 0.2
             }
            },
            "type": "histogram"
           }
          ],
          "histogram2d": [
           {
            "colorbar": {
             "outlinewidth": 0,
             "ticks": ""
            },
            "colorscale": [
             [
              0,
              "#0d0887"
             ],
             [
              0.1111111111111111,
              "#46039f"
             ],
             [
              0.2222222222222222,
              "#7201a8"
             ],
             [
              0.3333333333333333,
              "#9c179e"
             ],
             [
              0.4444444444444444,
              "#bd3786"
             ],
             [
              0.5555555555555556,
              "#d8576b"
             ],
             [
              0.6666666666666666,
              "#ed7953"
             ],
             [
              0.7777777777777778,
              "#fb9f3a"
             ],
             [
              0.8888888888888888,
              "#fdca26"
             ],
             [
              1,
              "#f0f921"
             ]
            ],
            "type": "histogram2d"
           }
          ],
          "histogram2dcontour": [
           {
            "colorbar": {
             "outlinewidth": 0,
             "ticks": ""
            },
            "colorscale": [
             [
              0,
              "#0d0887"
             ],
             [
              0.1111111111111111,
              "#46039f"
             ],
             [
              0.2222222222222222,
              "#7201a8"
             ],
             [
              0.3333333333333333,
              "#9c179e"
             ],
             [
              0.4444444444444444,
              "#bd3786"
             ],
             [
              0.5555555555555556,
              "#d8576b"
             ],
             [
              0.6666666666666666,
              "#ed7953"
             ],
             [
              0.7777777777777778,
              "#fb9f3a"
             ],
             [
              0.8888888888888888,
              "#fdca26"
             ],
             [
              1,
              "#f0f921"
             ]
            ],
            "type": "histogram2dcontour"
           }
          ],
          "mesh3d": [
           {
            "colorbar": {
             "outlinewidth": 0,
             "ticks": ""
            },
            "type": "mesh3d"
           }
          ],
          "parcoords": [
           {
            "line": {
             "colorbar": {
              "outlinewidth": 0,
              "ticks": ""
             }
            },
            "type": "parcoords"
           }
          ],
          "pie": [
           {
            "automargin": true,
            "type": "pie"
           }
          ],
          "scatter": [
           {
            "fillpattern": {
             "fillmode": "overlay",
             "size": 10,
             "solidity": 0.2
            },
            "type": "scatter"
           }
          ],
          "scatter3d": [
           {
            "line": {
             "colorbar": {
              "outlinewidth": 0,
              "ticks": ""
             }
            },
            "marker": {
             "colorbar": {
              "outlinewidth": 0,
              "ticks": ""
             }
            },
            "type": "scatter3d"
           }
          ],
          "scattercarpet": [
           {
            "marker": {
             "colorbar": {
              "outlinewidth": 0,
              "ticks": ""
             }
            },
            "type": "scattercarpet"
           }
          ],
          "scattergeo": [
           {
            "marker": {
             "colorbar": {
              "outlinewidth": 0,
              "ticks": ""
             }
            },
            "type": "scattergeo"
           }
          ],
          "scattergl": [
           {
            "marker": {
             "colorbar": {
              "outlinewidth": 0,
              "ticks": ""
             }
            },
            "type": "scattergl"
           }
          ],
          "scattermapbox": [
           {
            "marker": {
             "colorbar": {
              "outlinewidth": 0,
              "ticks": ""
             }
            },
            "type": "scattermapbox"
           }
          ],
          "scatterpolar": [
           {
            "marker": {
             "colorbar": {
              "outlinewidth": 0,
              "ticks": ""
             }
            },
            "type": "scatterpolar"
           }
          ],
          "scatterpolargl": [
           {
            "marker": {
             "colorbar": {
              "outlinewidth": 0,
              "ticks": ""
             }
            },
            "type": "scatterpolargl"
           }
          ],
          "scatterternary": [
           {
            "marker": {
             "colorbar": {
              "outlinewidth": 0,
              "ticks": ""
             }
            },
            "type": "scatterternary"
           }
          ],
          "surface": [
           {
            "colorbar": {
             "outlinewidth": 0,
             "ticks": ""
            },
            "colorscale": [
             [
              0,
              "#0d0887"
             ],
             [
              0.1111111111111111,
              "#46039f"
             ],
             [
              0.2222222222222222,
              "#7201a8"
             ],
             [
              0.3333333333333333,
              "#9c179e"
             ],
             [
              0.4444444444444444,
              "#bd3786"
             ],
             [
              0.5555555555555556,
              "#d8576b"
             ],
             [
              0.6666666666666666,
              "#ed7953"
             ],
             [
              0.7777777777777778,
              "#fb9f3a"
             ],
             [
              0.8888888888888888,
              "#fdca26"
             ],
             [
              1,
              "#f0f921"
             ]
            ],
            "type": "surface"
           }
          ],
          "table": [
           {
            "cells": {
             "fill": {
              "color": "#EBF0F8"
             },
             "line": {
              "color": "white"
             }
            },
            "header": {
             "fill": {
              "color": "#C8D4E3"
             },
             "line": {
              "color": "white"
             }
            },
            "type": "table"
           }
          ]
         },
         "layout": {
          "annotationdefaults": {
           "arrowcolor": "#2a3f5f",
           "arrowhead": 0,
           "arrowwidth": 1
          },
          "autotypenumbers": "strict",
          "coloraxis": {
           "colorbar": {
            "outlinewidth": 0,
            "ticks": ""
           }
          },
          "colorscale": {
           "diverging": [
            [
             0,
             "#8e0152"
            ],
            [
             0.1,
             "#c51b7d"
            ],
            [
             0.2,
             "#de77ae"
            ],
            [
             0.3,
             "#f1b6da"
            ],
            [
             0.4,
             "#fde0ef"
            ],
            [
             0.5,
             "#f7f7f7"
            ],
            [
             0.6,
             "#e6f5d0"
            ],
            [
             0.7,
             "#b8e186"
            ],
            [
             0.8,
             "#7fbc41"
            ],
            [
             0.9,
             "#4d9221"
            ],
            [
             1,
             "#276419"
            ]
           ],
           "sequential": [
            [
             0,
             "#0d0887"
            ],
            [
             0.1111111111111111,
             "#46039f"
            ],
            [
             0.2222222222222222,
             "#7201a8"
            ],
            [
             0.3333333333333333,
             "#9c179e"
            ],
            [
             0.4444444444444444,
             "#bd3786"
            ],
            [
             0.5555555555555556,
             "#d8576b"
            ],
            [
             0.6666666666666666,
             "#ed7953"
            ],
            [
             0.7777777777777778,
             "#fb9f3a"
            ],
            [
             0.8888888888888888,
             "#fdca26"
            ],
            [
             1,
             "#f0f921"
            ]
           ],
           "sequentialminus": [
            [
             0,
             "#0d0887"
            ],
            [
             0.1111111111111111,
             "#46039f"
            ],
            [
             0.2222222222222222,
             "#7201a8"
            ],
            [
             0.3333333333333333,
             "#9c179e"
            ],
            [
             0.4444444444444444,
             "#bd3786"
            ],
            [
             0.5555555555555556,
             "#d8576b"
            ],
            [
             0.6666666666666666,
             "#ed7953"
            ],
            [
             0.7777777777777778,
             "#fb9f3a"
            ],
            [
             0.8888888888888888,
             "#fdca26"
            ],
            [
             1,
             "#f0f921"
            ]
           ]
          },
          "colorway": [
           "#636efa",
           "#EF553B",
           "#00cc96",
           "#ab63fa",
           "#FFA15A",
           "#19d3f3",
           "#FF6692",
           "#B6E880",
           "#FF97FF",
           "#FECB52"
          ],
          "font": {
           "color": "#2a3f5f"
          },
          "geo": {
           "bgcolor": "white",
           "lakecolor": "white",
           "landcolor": "#E5ECF6",
           "showlakes": true,
           "showland": true,
           "subunitcolor": "white"
          },
          "hoverlabel": {
           "align": "left"
          },
          "hovermode": "closest",
          "mapbox": {
           "style": "light"
          },
          "paper_bgcolor": "white",
          "plot_bgcolor": "#E5ECF6",
          "polar": {
           "angularaxis": {
            "gridcolor": "white",
            "linecolor": "white",
            "ticks": ""
           },
           "bgcolor": "#E5ECF6",
           "radialaxis": {
            "gridcolor": "white",
            "linecolor": "white",
            "ticks": ""
           }
          },
          "scene": {
           "xaxis": {
            "backgroundcolor": "#E5ECF6",
            "gridcolor": "white",
            "gridwidth": 2,
            "linecolor": "white",
            "showbackground": true,
            "ticks": "",
            "zerolinecolor": "white"
           },
           "yaxis": {
            "backgroundcolor": "#E5ECF6",
            "gridcolor": "white",
            "gridwidth": 2,
            "linecolor": "white",
            "showbackground": true,
            "ticks": "",
            "zerolinecolor": "white"
           },
           "zaxis": {
            "backgroundcolor": "#E5ECF6",
            "gridcolor": "white",
            "gridwidth": 2,
            "linecolor": "white",
            "showbackground": true,
            "ticks": "",
            "zerolinecolor": "white"
           }
          },
          "shapedefaults": {
           "line": {
            "color": "#2a3f5f"
           }
          },
          "ternary": {
           "aaxis": {
            "gridcolor": "white",
            "linecolor": "white",
            "ticks": ""
           },
           "baxis": {
            "gridcolor": "white",
            "linecolor": "white",
            "ticks": ""
           },
           "bgcolor": "#E5ECF6",
           "caxis": {
            "gridcolor": "white",
            "linecolor": "white",
            "ticks": ""
           }
          },
          "title": {
           "x": 0.05
          },
          "xaxis": {
           "automargin": true,
           "gridcolor": "white",
           "linecolor": "white",
           "ticks": "",
           "title": {
            "standoff": 15
           },
           "zerolinecolor": "white",
           "zerolinewidth": 2
          },
          "yaxis": {
           "automargin": true,
           "gridcolor": "white",
           "linecolor": "white",
           "ticks": "",
           "title": {
            "standoff": 15
           },
           "zerolinecolor": "white",
           "zerolinewidth": 2
          }
         }
        },
        "title": {
         "text": "Count Distribution of Tags Column"
        },
        "xaxis": {
         "anchor": "y",
         "domain": [
          0,
          1
         ],
         "title": {
          "text": "Tag Names"
         }
        },
        "yaxis": {
         "anchor": "x",
         "domain": [
          0,
          1
         ],
         "dtick": 1,
         "tick0": 0,
         "tickmode": "linear",
         "title": {
          "text": "Counts"
         },
         "type": "log"
        }
       }
      }
     },
     "metadata": {},
     "output_type": "display_data"
    }
   ],
   "source": [
    "obj.display_tag_distribution()"
   ]
  },
  {
   "cell_type": "markdown",
   "id": "dc8867f0-8503-4039-a049-735b45113ab8",
   "metadata": {},
   "source": [
    "# Recommendations\n",
    "    \n",
    "Using the cosine similarity, figure out what items are most similar to the highest rated items by the specified user, and print the top 10 items.\n"
   ]
  },
  {
   "cell_type": "code",
   "execution_count": 30,
   "id": "ac098f0e",
   "metadata": {},
   "outputs": [],
   "source": [
    "recommendations = obj.generate_recommendations(104295)"
   ]
  },
  {
   "cell_type": "code",
   "execution_count": 31,
   "id": "d492741e-07fd-4fd5-97a5-a2f32e2a75f1",
   "metadata": {
    "tags": []
   },
   "outputs": [
    {
     "data": {
      "text/plain": [
       "['tuna   rice casserole',\n",
       " 'linguine with smoked haddock  tomatoes and spinach',\n",
       " 'salmon with fennel  swiss chard and penne',\n",
       " 'seared salmon with linguine and ramp pesto',\n",
       " 'lemony tuna pasta',\n",
       " 'tuna balls with cream sauce',\n",
       " 'tuna pabucas  patties  with two radish caper sauce',\n",
       " 'tuna patties with ranch dressing',\n",
       " 'tuna steaks with orange and rosemary',\n",
       " 'tuna with wasabi lime butter sauce']"
      ]
     },
     "execution_count": 31,
     "metadata": {},
     "output_type": "execute_result"
    }
   ],
   "source": [
    "obj.display_recommendations(recommendations, 10)"
   ]
  },
  {
   "cell_type": "markdown",
   "id": "5f70bc82-334e-4404-9bce-c7ed82196907",
   "metadata": {},
   "source": [
    "# Heatmap\n",
    "\n",
    "This heatmap visualizes the simlarities of the top 100 recipes of the given user"
   ]
  },
  {
   "cell_type": "code",
   "execution_count": 32,
   "id": "824e47ec-727e-45a1-92c2-eef3f88cc159",
   "metadata": {
    "tags": []
   },
   "outputs": [
    {
     "data": {
      "application/vnd.plotly.v1+json": {
       "config": {
        "plotlyServerURL": "https://plot.ly"
       },
       "data": [
        {
         "colorscale": [
          [
           0,
           "#440154"
          ],
          [
           0.1111111111111111,
           "#482878"
          ],
          [
           0.2222222222222222,
           "#3e4989"
          ],
          [
           0.3333333333333333,
           "#31688e"
          ],
          [
           0.4444444444444444,
           "#26828e"
          ],
          [
           0.5555555555555556,
           "#1f9e89"
          ],
          [
           0.6666666666666666,
           "#35b779"
          ],
          [
           0.7777777777777778,
           "#6ece58"
          ],
          [
           0.8888888888888888,
           "#b5de2b"
          ],
          [
           1,
           "#fde725"
          ]
         ],
         "type": "heatmap",
         "x": [
          "219462",
          "407303",
          "417925",
          "359314",
          "47951",
          "215925",
          "267778",
          "53179",
          "182763",
          "120442",
          "76764",
          "414905",
          "347155",
          "206021",
          "52183",
          "171653",
          "44319",
          "181198",
          "367224",
          "259082",
          "116815",
          "91424",
          "175649",
          "349141",
          "154676",
          "322348",
          "498815",
          "489712",
          "384214",
          "486284",
          "30782",
          "159754",
          "393646",
          "165792",
          "256006",
          "107190",
          "68520",
          "222324",
          "240151",
          "182687",
          "316791",
          "260864",
          "173065",
          "199920",
          "103103",
          "6913",
          "160987",
          "175734",
          "411442",
          "208436",
          "206048",
          "295366",
          "454873",
          "363635",
          "104726",
          "367203",
          "497371",
          "171648",
          "100216",
          "332071",
          "329104",
          "272835",
          "261981",
          "206704",
          "81276",
          "268942",
          "216059",
          "383530",
          "536474",
          "209728",
          "170512",
          "256225",
          "400742",
          "156545",
          "151472",
          "321512",
          "390711",
          "89901",
          "209698",
          "157072",
          "23398",
          "240905",
          "87164",
          "188996",
          "341544",
          "186223",
          "112091",
          "46364",
          "320487",
          "257033",
          "369858",
          "171748",
          "264907",
          "205474",
          "252111",
          "207932",
          "196098",
          "341923",
          "365809",
          "178462"
         ],
         "y": [
          "User_id: 104295"
         ],
         "z": [
          [
           0.06675467455751277,
           0.061253682898955004,
           0.05999800418442999,
           0.05457115898034732,
           0.05253069899424195,
           0.04829305240677135,
           0.04829305240677135,
           0.04829305240677135,
           0.04829305240677135,
           0.04829305240677135,
           0.0465486541744447,
           0.04638988210977306,
           0.046244616916934364,
           0.044340490416071646,
           0.043475241950896096,
           0.04342971254550791,
           0.038665681165176255,
           0.03549948672887129,
           0.03539289472942115,
           0.035290448555054414,
           0.03492741145279228,
           0.033956034450191346,
           0.03335537313313776,
           0.0333480740776155,
           0.03326600812734387,
           0.03296473467887454,
           0.03296473467887454,
           0.03296473467887454,
           0.03296473467887454,
           0.0325897592067533,
           0.03192980115030791,
           0.031252854242288804,
           0.030873582317552835,
           0.030709674784740973,
           0.030709674784740973,
           0.030288654709776583,
           0.030018669160882437,
           0.028984717901286594,
           0.028622279915192353,
           0.027774479621417,
           0.027252654193760578,
           0.0272490614787571,
           0.026406008392809065,
           0.026312577259194135,
           0.02622337962473982,
           0.02594240432511815,
           0.02592314508768715,
           0.02592314508768715,
           0.02592314508768715,
           0.02592314508768715,
           0.025712633621297935,
           0.025712633621297935,
           0.025531780412583242,
           0.025367968964374137,
           0.025367968964374137,
           0.025367968964374137,
           0.025367968964374137,
           0.02462177688491,
           0.0243100842208495,
           0.0243100842208495,
           0.0243100842208495,
           0.0243100842208495,
           0.0243100842208495,
           0.0243100842208495,
           0.02398159788641511,
           0.0239475560147153,
           0.023671102910731066,
           0.023426190434504286,
           0.023332981927337862,
           0.023332981927337862,
           0.023332981927337862,
           0.023332981927337862,
           0.023332981927337862,
           0.023332981927337862,
           0.02331685726456513,
           0.022678796386045495,
           0.022311146198368624,
           0.022311146198368624,
           0.022311146198368624,
           0.022311146198368624,
           0.021888777227732352,
           0.02181315104780807,
           0.021109871915554253,
           0.02073438931654041,
           0.01975712310867838,
           0.019479901434682513,
           0.019479901434682513,
           0.019446679535951895,
           0.01884242709821502,
           0.018839422458777073,
           0.01868746128045464,
           0.018649361665262543,
           0.018583427993721598,
           0.018583427993721598,
           0.018574949701300233,
           0.018549739273976944,
           0.018466582701346268,
           0.018466582701346268,
           0.018466582701346268,
           0.018466582701346268
          ]
         ]
        }
       ],
       "layout": {
        "height": 600,
        "template": {
         "data": {
          "bar": [
           {
            "error_x": {
             "color": "#2a3f5f"
            },
            "error_y": {
             "color": "#2a3f5f"
            },
            "marker": {
             "line": {
              "color": "#E5ECF6",
              "width": 0.5
             },
             "pattern": {
              "fillmode": "overlay",
              "size": 10,
              "solidity": 0.2
             }
            },
            "type": "bar"
           }
          ],
          "barpolar": [
           {
            "marker": {
             "line": {
              "color": "#E5ECF6",
              "width": 0.5
             },
             "pattern": {
              "fillmode": "overlay",
              "size": 10,
              "solidity": 0.2
             }
            },
            "type": "barpolar"
           }
          ],
          "carpet": [
           {
            "aaxis": {
             "endlinecolor": "#2a3f5f",
             "gridcolor": "white",
             "linecolor": "white",
             "minorgridcolor": "white",
             "startlinecolor": "#2a3f5f"
            },
            "baxis": {
             "endlinecolor": "#2a3f5f",
             "gridcolor": "white",
             "linecolor": "white",
             "minorgridcolor": "white",
             "startlinecolor": "#2a3f5f"
            },
            "type": "carpet"
           }
          ],
          "choropleth": [
           {
            "colorbar": {
             "outlinewidth": 0,
             "ticks": ""
            },
            "type": "choropleth"
           }
          ],
          "contour": [
           {
            "colorbar": {
             "outlinewidth": 0,
             "ticks": ""
            },
            "colorscale": [
             [
              0,
              "#0d0887"
             ],
             [
              0.1111111111111111,
              "#46039f"
             ],
             [
              0.2222222222222222,
              "#7201a8"
             ],
             [
              0.3333333333333333,
              "#9c179e"
             ],
             [
              0.4444444444444444,
              "#bd3786"
             ],
             [
              0.5555555555555556,
              "#d8576b"
             ],
             [
              0.6666666666666666,
              "#ed7953"
             ],
             [
              0.7777777777777778,
              "#fb9f3a"
             ],
             [
              0.8888888888888888,
              "#fdca26"
             ],
             [
              1,
              "#f0f921"
             ]
            ],
            "type": "contour"
           }
          ],
          "contourcarpet": [
           {
            "colorbar": {
             "outlinewidth": 0,
             "ticks": ""
            },
            "type": "contourcarpet"
           }
          ],
          "heatmap": [
           {
            "colorbar": {
             "outlinewidth": 0,
             "ticks": ""
            },
            "colorscale": [
             [
              0,
              "#0d0887"
             ],
             [
              0.1111111111111111,
              "#46039f"
             ],
             [
              0.2222222222222222,
              "#7201a8"
             ],
             [
              0.3333333333333333,
              "#9c179e"
             ],
             [
              0.4444444444444444,
              "#bd3786"
             ],
             [
              0.5555555555555556,
              "#d8576b"
             ],
             [
              0.6666666666666666,
              "#ed7953"
             ],
             [
              0.7777777777777778,
              "#fb9f3a"
             ],
             [
              0.8888888888888888,
              "#fdca26"
             ],
             [
              1,
              "#f0f921"
             ]
            ],
            "type": "heatmap"
           }
          ],
          "heatmapgl": [
           {
            "colorbar": {
             "outlinewidth": 0,
             "ticks": ""
            },
            "colorscale": [
             [
              0,
              "#0d0887"
             ],
             [
              0.1111111111111111,
              "#46039f"
             ],
             [
              0.2222222222222222,
              "#7201a8"
             ],
             [
              0.3333333333333333,
              "#9c179e"
             ],
             [
              0.4444444444444444,
              "#bd3786"
             ],
             [
              0.5555555555555556,
              "#d8576b"
             ],
             [
              0.6666666666666666,
              "#ed7953"
             ],
             [
              0.7777777777777778,
              "#fb9f3a"
             ],
             [
              0.8888888888888888,
              "#fdca26"
             ],
             [
              1,
              "#f0f921"
             ]
            ],
            "type": "heatmapgl"
           }
          ],
          "histogram": [
           {
            "marker": {
             "pattern": {
              "fillmode": "overlay",
              "size": 10,
              "solidity": 0.2
             }
            },
            "type": "histogram"
           }
          ],
          "histogram2d": [
           {
            "colorbar": {
             "outlinewidth": 0,
             "ticks": ""
            },
            "colorscale": [
             [
              0,
              "#0d0887"
             ],
             [
              0.1111111111111111,
              "#46039f"
             ],
             [
              0.2222222222222222,
              "#7201a8"
             ],
             [
              0.3333333333333333,
              "#9c179e"
             ],
             [
              0.4444444444444444,
              "#bd3786"
             ],
             [
              0.5555555555555556,
              "#d8576b"
             ],
             [
              0.6666666666666666,
              "#ed7953"
             ],
             [
              0.7777777777777778,
              "#fb9f3a"
             ],
             [
              0.8888888888888888,
              "#fdca26"
             ],
             [
              1,
              "#f0f921"
             ]
            ],
            "type": "histogram2d"
           }
          ],
          "histogram2dcontour": [
           {
            "colorbar": {
             "outlinewidth": 0,
             "ticks": ""
            },
            "colorscale": [
             [
              0,
              "#0d0887"
             ],
             [
              0.1111111111111111,
              "#46039f"
             ],
             [
              0.2222222222222222,
              "#7201a8"
             ],
             [
              0.3333333333333333,
              "#9c179e"
             ],
             [
              0.4444444444444444,
              "#bd3786"
             ],
             [
              0.5555555555555556,
              "#d8576b"
             ],
             [
              0.6666666666666666,
              "#ed7953"
             ],
             [
              0.7777777777777778,
              "#fb9f3a"
             ],
             [
              0.8888888888888888,
              "#fdca26"
             ],
             [
              1,
              "#f0f921"
             ]
            ],
            "type": "histogram2dcontour"
           }
          ],
          "mesh3d": [
           {
            "colorbar": {
             "outlinewidth": 0,
             "ticks": ""
            },
            "type": "mesh3d"
           }
          ],
          "parcoords": [
           {
            "line": {
             "colorbar": {
              "outlinewidth": 0,
              "ticks": ""
             }
            },
            "type": "parcoords"
           }
          ],
          "pie": [
           {
            "automargin": true,
            "type": "pie"
           }
          ],
          "scatter": [
           {
            "fillpattern": {
             "fillmode": "overlay",
             "size": 10,
             "solidity": 0.2
            },
            "type": "scatter"
           }
          ],
          "scatter3d": [
           {
            "line": {
             "colorbar": {
              "outlinewidth": 0,
              "ticks": ""
             }
            },
            "marker": {
             "colorbar": {
              "outlinewidth": 0,
              "ticks": ""
             }
            },
            "type": "scatter3d"
           }
          ],
          "scattercarpet": [
           {
            "marker": {
             "colorbar": {
              "outlinewidth": 0,
              "ticks": ""
             }
            },
            "type": "scattercarpet"
           }
          ],
          "scattergeo": [
           {
            "marker": {
             "colorbar": {
              "outlinewidth": 0,
              "ticks": ""
             }
            },
            "type": "scattergeo"
           }
          ],
          "scattergl": [
           {
            "marker": {
             "colorbar": {
              "outlinewidth": 0,
              "ticks": ""
             }
            },
            "type": "scattergl"
           }
          ],
          "scattermapbox": [
           {
            "marker": {
             "colorbar": {
              "outlinewidth": 0,
              "ticks": ""
             }
            },
            "type": "scattermapbox"
           }
          ],
          "scatterpolar": [
           {
            "marker": {
             "colorbar": {
              "outlinewidth": 0,
              "ticks": ""
             }
            },
            "type": "scatterpolar"
           }
          ],
          "scatterpolargl": [
           {
            "marker": {
             "colorbar": {
              "outlinewidth": 0,
              "ticks": ""
             }
            },
            "type": "scatterpolargl"
           }
          ],
          "scatterternary": [
           {
            "marker": {
             "colorbar": {
              "outlinewidth": 0,
              "ticks": ""
             }
            },
            "type": "scatterternary"
           }
          ],
          "surface": [
           {
            "colorbar": {
             "outlinewidth": 0,
             "ticks": ""
            },
            "colorscale": [
             [
              0,
              "#0d0887"
             ],
             [
              0.1111111111111111,
              "#46039f"
             ],
             [
              0.2222222222222222,
              "#7201a8"
             ],
             [
              0.3333333333333333,
              "#9c179e"
             ],
             [
              0.4444444444444444,
              "#bd3786"
             ],
             [
              0.5555555555555556,
              "#d8576b"
             ],
             [
              0.6666666666666666,
              "#ed7953"
             ],
             [
              0.7777777777777778,
              "#fb9f3a"
             ],
             [
              0.8888888888888888,
              "#fdca26"
             ],
             [
              1,
              "#f0f921"
             ]
            ],
            "type": "surface"
           }
          ],
          "table": [
           {
            "cells": {
             "fill": {
              "color": "#EBF0F8"
             },
             "line": {
              "color": "white"
             }
            },
            "header": {
             "fill": {
              "color": "#C8D4E3"
             },
             "line": {
              "color": "white"
             }
            },
            "type": "table"
           }
          ]
         },
         "layout": {
          "annotationdefaults": {
           "arrowcolor": "#2a3f5f",
           "arrowhead": 0,
           "arrowwidth": 1
          },
          "autotypenumbers": "strict",
          "coloraxis": {
           "colorbar": {
            "outlinewidth": 0,
            "ticks": ""
           }
          },
          "colorscale": {
           "diverging": [
            [
             0,
             "#8e0152"
            ],
            [
             0.1,
             "#c51b7d"
            ],
            [
             0.2,
             "#de77ae"
            ],
            [
             0.3,
             "#f1b6da"
            ],
            [
             0.4,
             "#fde0ef"
            ],
            [
             0.5,
             "#f7f7f7"
            ],
            [
             0.6,
             "#e6f5d0"
            ],
            [
             0.7,
             "#b8e186"
            ],
            [
             0.8,
             "#7fbc41"
            ],
            [
             0.9,
             "#4d9221"
            ],
            [
             1,
             "#276419"
            ]
           ],
           "sequential": [
            [
             0,
             "#0d0887"
            ],
            [
             0.1111111111111111,
             "#46039f"
            ],
            [
             0.2222222222222222,
             "#7201a8"
            ],
            [
             0.3333333333333333,
             "#9c179e"
            ],
            [
             0.4444444444444444,
             "#bd3786"
            ],
            [
             0.5555555555555556,
             "#d8576b"
            ],
            [
             0.6666666666666666,
             "#ed7953"
            ],
            [
             0.7777777777777778,
             "#fb9f3a"
            ],
            [
             0.8888888888888888,
             "#fdca26"
            ],
            [
             1,
             "#f0f921"
            ]
           ],
           "sequentialminus": [
            [
             0,
             "#0d0887"
            ],
            [
             0.1111111111111111,
             "#46039f"
            ],
            [
             0.2222222222222222,
             "#7201a8"
            ],
            [
             0.3333333333333333,
             "#9c179e"
            ],
            [
             0.4444444444444444,
             "#bd3786"
            ],
            [
             0.5555555555555556,
             "#d8576b"
            ],
            [
             0.6666666666666666,
             "#ed7953"
            ],
            [
             0.7777777777777778,
             "#fb9f3a"
            ],
            [
             0.8888888888888888,
             "#fdca26"
            ],
            [
             1,
             "#f0f921"
            ]
           ]
          },
          "colorway": [
           "#636efa",
           "#EF553B",
           "#00cc96",
           "#ab63fa",
           "#FFA15A",
           "#19d3f3",
           "#FF6692",
           "#B6E880",
           "#FF97FF",
           "#FECB52"
          ],
          "font": {
           "color": "#2a3f5f"
          },
          "geo": {
           "bgcolor": "white",
           "lakecolor": "white",
           "landcolor": "#E5ECF6",
           "showlakes": true,
           "showland": true,
           "subunitcolor": "white"
          },
          "hoverlabel": {
           "align": "left"
          },
          "hovermode": "closest",
          "mapbox": {
           "style": "light"
          },
          "paper_bgcolor": "white",
          "plot_bgcolor": "#E5ECF6",
          "polar": {
           "angularaxis": {
            "gridcolor": "white",
            "linecolor": "white",
            "ticks": ""
           },
           "bgcolor": "#E5ECF6",
           "radialaxis": {
            "gridcolor": "white",
            "linecolor": "white",
            "ticks": ""
           }
          },
          "scene": {
           "xaxis": {
            "backgroundcolor": "#E5ECF6",
            "gridcolor": "white",
            "gridwidth": 2,
            "linecolor": "white",
            "showbackground": true,
            "ticks": "",
            "zerolinecolor": "white"
           },
           "yaxis": {
            "backgroundcolor": "#E5ECF6",
            "gridcolor": "white",
            "gridwidth": 2,
            "linecolor": "white",
            "showbackground": true,
            "ticks": "",
            "zerolinecolor": "white"
           },
           "zaxis": {
            "backgroundcolor": "#E5ECF6",
            "gridcolor": "white",
            "gridwidth": 2,
            "linecolor": "white",
            "showbackground": true,
            "ticks": "",
            "zerolinecolor": "white"
           }
          },
          "shapedefaults": {
           "line": {
            "color": "#2a3f5f"
           }
          },
          "ternary": {
           "aaxis": {
            "gridcolor": "white",
            "linecolor": "white",
            "ticks": ""
           },
           "baxis": {
            "gridcolor": "white",
            "linecolor": "white",
            "ticks": ""
           },
           "bgcolor": "#E5ECF6",
           "caxis": {
            "gridcolor": "white",
            "linecolor": "white",
            "ticks": ""
           }
          },
          "title": {
           "x": 0.05
          },
          "xaxis": {
           "automargin": true,
           "gridcolor": "white",
           "linecolor": "white",
           "ticks": "",
           "title": {
            "standoff": 15
           },
           "zerolinecolor": "white",
           "zerolinewidth": 2
          },
          "yaxis": {
           "automargin": true,
           "gridcolor": "white",
           "linecolor": "white",
           "ticks": "",
           "title": {
            "standoff": 15
           },
           "zerolinecolor": "white",
           "zerolinewidth": 2
          }
         }
        },
        "title": {
         "text": "Similar recipes for 104295"
        },
        "width": 1000,
        "xaxis": {
         "tickangle": -90,
         "title": {
          "text": "X-Axis"
         }
        },
        "yaxis": {
         "ticktext": [
          "User_id: 104295"
         ],
         "tickvals": [
          0
         ],
         "title": {
          "text": "Y-Axis"
         }
        }
       }
      }
     },
     "metadata": {},
     "output_type": "display_data"
    }
   ],
   "source": [
    "obj.display_similar_recipes_heatmap(104295, recommendations[:100])"
   ]
  },
  {
   "cell_type": "markdown",
   "id": "45faba53-bcf9-4eba-83c7-179c5cef60e5",
   "metadata": {
    "tags": []
   },
   "source": [
    "# Model evaluation\n",
    "\n",
    "Compares the predictions against known ratings using the Root mean square error (RMSE) metric"
   ]
  },
  {
   "cell_type": "code",
   "execution_count": 33,
   "id": "9d28b4be-c893-40d9-bd04-06585176606a",
   "metadata": {
    "tags": []
   },
   "outputs": [
    {
     "data": {
      "text/plain": [
       "20.879368036700317"
      ]
     },
     "execution_count": 33,
     "metadata": {},
     "output_type": "execute_result"
    }
   ],
   "source": [
    "obj.evaluate_model(recommendations, 104295)"
   ]
  }
 ],
 "metadata": {
  "kernelspec": {
   "display_name": "Python 3 (ipykernel)",
   "language": "python",
   "name": "python3"
  },
  "language_info": {
   "codemirror_mode": {
    "name": "ipython",
    "version": 3
   },
   "file_extension": ".py",
   "mimetype": "text/x-python",
   "name": "python",
   "nbconvert_exporter": "python",
   "pygments_lexer": "ipython3",
   "version": "3.10.10"
  }
 },
 "nbformat": 4,
 "nbformat_minor": 5
}

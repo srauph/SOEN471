{
 "cells": [
  {
   "cell_type": "code",
   "execution_count": 232,
   "id": "58e62024",
   "metadata": {},
   "outputs": [],
   "source": [
    "import pandas as pd\n",
    "import numpy as np\n",
    "import dask.dataframe as dd\n",
    "# from dask_ml.feature_extraction import HashingVectorizer\n",
    "import os\n",
    "import seaborn as sns\n",
    "from collections import Counter\n",
    "import plotly.express as px\n",
    "from sklearn.feature_extraction.text import TfidfVectorizer\n",
    "from sklearn.metrics.pairwise import cosine_similarity\n",
    "import warnings\n",
    "from scipy.sparse import csr_matrix\n",
    "warnings.filterwarnings(\"ignore\")"
   ]
  },
  {
   "cell_type": "markdown",
   "id": "e33dbb09",
   "metadata": {},
   "source": [
    "---"
   ]
  },
  {
   "cell_type": "markdown",
   "id": "e5fb9d45",
   "metadata": {},
   "source": [
    "## Item Profiles based on TF-IDF of tags column"
   ]
  },
  {
   "cell_type": "code",
   "execution_count": 236,
   "id": "ad07ed10",
   "metadata": {},
   "outputs": [],
   "source": [
    "ratings = pd.read_csv('./clean_data/interactions_TRAIN.csv').drop('Unnamed: 0', axis=1)\n",
    "recipes = pd.read_csv('./clean_data/recipes.csv').drop('Unnamed: 0', axis=1)\n",
    "\n",
    "# ratings_TRAIN_dask = dd.from_pandas(ratings_TRAIN, 1).reset_index().drop('index', axis=1)\n",
    "recipes_dask = dd.read_csv('./clean_data/recipes.csv').drop('Unnamed: 0', axis=1)"
   ]
  },
  {
   "cell_type": "code",
   "execution_count": 237,
   "id": "d39363ef",
   "metadata": {},
   "outputs": [],
   "source": [
    "class TFIDF_Recommendations():\n",
    "    \n",
    "    def __init__(self, recipes, ratings):\n",
    "        self.recipes = recipes\n",
    "        self.recipes['tags'] = self.recipes['tags'].map(eval).map(lambda x: ' '.join(x))\n",
    "        self.cosine_matrix = None\n",
    "        self.flag = False\n",
    "        self.indices = pd.Series(self.recipes.index, index = self.recipes['recipe_id']).drop_duplicates()\n",
    "        \n",
    "        rated_recipes = ratings['recipe_id'].unique()\n",
    "        self.recipes = self.recipes[self.recipes['recipe_id'].isin(rated_recipes)]\n",
    "        \n",
    "        self.ratings = ratings.merge(self.recipes, on = 'recipe_id')\n",
    "        self.ratings.drop(['date', 'minutes', 'contributor_id', 'submitted', 'n_steps', 'description', 'ingredients', 'n_ingredients', 'Calories', 'Total_fat_PDV', 'Sugar_PDV', 'Sodium_PDV', 'Protein_PDV', 'Saturated_fat_PDV', 'Carbohydrates_PDV', 'steps'], axis=1)\n",
    "        self.ratings['mean_user_rating'] = self.ratings.groupby('user_id')['rating'].transform('mean')\n",
    "        self.ratings['weighted_rating'] = self.ratings['rating'] - self.ratings['mean_user_rating']\n",
    "        \n",
    "        self.tfidf = TfidfVectorizer(stop_words='english', token_pattern=r\"(?u)\\S\\S+\")\n",
    "        self.tfidf_ratings_matrix = tfidf.fit_transform(self.ratings['tags'])\n",
    "        self.tfidf_recipes_matrix = tfidf.fit_transform(self.recipes['tags'])\n",
    "    \n",
    "    def display_tag_distribution(self):\n",
    "        \n",
    "        tags_count = self.recipes['tags'].map(Counter).sum().compute().most_common()\n",
    "        fig = px.bar(tags_count,\n",
    "                     x = 0,\n",
    "                     y = 1,\n",
    "                     log_y = True,\n",
    "                     title = \"Count Distribution of Tags Column\")\n",
    "        fig.update_layout(\n",
    "            xaxis_title=\"Tag Names\",\n",
    "            yaxis_title=\"Counts\",\n",
    "            yaxis = dict(\n",
    "                tickmode = 'linear',\n",
    "                tick0 = 0,\n",
    "                dtick = 1\n",
    "    ))\n",
    "    \n",
    "        return fig\n",
    "    \n",
    "    def display_cosine_matrix(self, n=5):\n",
    "        \n",
    "        try:\n",
    "            fig = px.imshow(self.cosine_matrix[:n, :n],\n",
    "                            labels = dict(x = \"Recipe Index\", y = \"Recipe Index\", color = \"Cosine Similarity\"),\n",
    "                            title = \"Cosine similarity of Recipes\",\n",
    "                            text_auto = True)\n",
    "        except:\n",
    "            raise Exception(\"Generate a cosine matrix first by calling generate_cosine_sim_matrix()\")\n",
    "            \n",
    "        return fig\n",
    "    \n",
    "    def generate_user_profile(self, user_id):\n",
    "        \n",
    "        user_profile = 0\n",
    "        for index in self.ratings[self.ratings['user_id'] == user_id].index:\n",
    "            user_profile += self.tfidf_ratings_matrix[index] * self.ratings.loc[index]['weighted_rating']\n",
    "\n",
    "        return user_profile\n",
    "        \n",
    "    \n",
    "    def generate_recommendations(self, user_id, n):\n",
    "        \n",
    "        similar_recipes = []\n",
    "        toReturn = []\n",
    "        curr_similarity = 0\n",
    "        user_profile = self.generate_user_profile(user_id)\n",
    "        for i in range(0, self.tfidf_recipes_matrix.shape[0]):\n",
    "            curr_similarity = cosine_similarity(self.tfidf_recipes_matrix[i], user_profile)\n",
    "            similar_recipes.append((curr_similarity[0][0], i))\n",
    "        \n",
    "        similar_recipes = sorted(similar_recipes, key = lambda x: x[0])[:n]\n",
    "        \n",
    "        for sim, idx in similar_recipes:\n",
    "            recipe = self.recipes.loc[idx]['name']\n",
    "            toReturn.append(recipe)\n",
    "            \n",
    "        return toReturn"
   ]
  },
  {
   "cell_type": "code",
   "execution_count": 238,
   "id": "eafc1661",
   "metadata": {
    "scrolled": false
   },
   "outputs": [],
   "source": [
    "obj = TFIDF_Recommendations(recipes, ratings)"
   ]
  },
  {
   "cell_type": "code",
   "execution_count": 239,
   "id": "ac098f0e",
   "metadata": {},
   "outputs": [
    {
     "data": {
      "text/plain": [
       "['the bestest cheezie sauce',\n",
       " 'crispy blue cheese potatoes',\n",
       " 'chilli con carne  21 day wonder diet   day 2',\n",
       " 'galbi  kalbi  grilled korean short ribs  flanken cut',\n",
       " 'cinnamon crackers',\n",
       " 'paper lined sponge cake',\n",
       " 'parsnip croquettes',\n",
       " 'easy homemade almond roca',\n",
       " 'salad beatrice',\n",
       " 'grilled lemon trout']"
      ]
     },
     "execution_count": 239,
     "metadata": {},
     "output_type": "execute_result"
    }
   ],
   "source": [
    "obj.generate_recommendations(104295, 10)"
   ]
  },
  {
   "cell_type": "code",
   "execution_count": null,
   "id": "ce31eb89",
   "metadata": {},
   "outputs": [],
   "source": []
  }
 ],
 "metadata": {
  "kernelspec": {
   "display_name": "Python 3 (ipykernel)",
   "language": "python",
   "name": "python3"
  },
  "language_info": {
   "codemirror_mode": {
    "name": "ipython",
    "version": 3
   },
   "file_extension": ".py",
   "mimetype": "text/x-python",
   "name": "python",
   "nbconvert_exporter": "python",
   "pygments_lexer": "ipython3",
   "version": "3.9.12"
  }
 },
 "nbformat": 4,
 "nbformat_minor": 5
}

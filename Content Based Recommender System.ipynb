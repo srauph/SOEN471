{
 "cells": [
  {
   "cell_type": "code",
   "execution_count": 1,
   "id": "58e62024",
   "metadata": {},
   "outputs": [],
   "source": [
    "import pandas as pd\n",
    "import numpy as np\n",
    "import dask.dataframe as dd\n",
    "# from dask_ml.feature_extraction import HashingVectorizer\n",
    "import os\n",
    "import seaborn as sns\n",
    "from collections import Counter\n",
    "import plotly.express as px\n",
    "from sklearn.feature_extraction.text import TfidfVectorizer\n",
    "from sklearn.metrics.pairwise import cosine_similarity\n",
    "import warnings\n",
    "from scipy.sparse import csr_matrix\n",
    "warnings.filterwarnings(\"ignore\")"
   ]
  },
  {
   "cell_type": "markdown",
   "id": "e33dbb09",
   "metadata": {},
   "source": [
    "---"
   ]
  },
  {
   "cell_type": "markdown",
   "id": "e5fb9d45",
   "metadata": {},
   "source": [
    "## Item Profiles based on TF-IDF of tags column"
   ]
  },
  {
   "cell_type": "code",
   "execution_count": 2,
   "id": "ad07ed10",
   "metadata": {},
   "outputs": [
    {
     "ename": "ParserError",
     "evalue": "Error tokenizing data. C error: Calling read(nbytes) on source failed. Try engine='python'.",
     "output_type": "error",
     "traceback": [
      "\u001b[1;31m---------------------------------------------------------------------------\u001b[0m",
      "\u001b[1;31mParserError\u001b[0m                               Traceback (most recent call last)",
      "Cell \u001b[1;32mIn[2], line 1\u001b[0m\n\u001b[1;32m----> 1\u001b[0m ratings \u001b[38;5;241m=\u001b[39m \u001b[43mpd\u001b[49m\u001b[38;5;241;43m.\u001b[39;49m\u001b[43mread_csv\u001b[49m\u001b[43m(\u001b[49m\u001b[38;5;124;43m'\u001b[39;49m\u001b[38;5;124;43m./clean_data/interactions_TRAIN.csv\u001b[39;49m\u001b[38;5;124;43m'\u001b[39;49m\u001b[43m)\u001b[49m\u001b[38;5;241m.\u001b[39mdrop(\u001b[38;5;124m'\u001b[39m\u001b[38;5;124mUnnamed: 0\u001b[39m\u001b[38;5;124m'\u001b[39m, axis\u001b[38;5;241m=\u001b[39m\u001b[38;5;241m1\u001b[39m)\n\u001b[0;32m      2\u001b[0m recipes \u001b[38;5;241m=\u001b[39m pd\u001b[38;5;241m.\u001b[39mread_csv(\u001b[38;5;124m'\u001b[39m\u001b[38;5;124m./clean_data/recipes.csv\u001b[39m\u001b[38;5;124m'\u001b[39m)\u001b[38;5;241m.\u001b[39mdrop(\u001b[38;5;124m'\u001b[39m\u001b[38;5;124mUnnamed: 0\u001b[39m\u001b[38;5;124m'\u001b[39m, axis\u001b[38;5;241m=\u001b[39m\u001b[38;5;241m1\u001b[39m)\n\u001b[0;32m      4\u001b[0m \u001b[38;5;66;03m# ratings_TRAIN_dask = dd.from_pandas(ratings_TRAIN, 1).reset_index().drop('index', axis=1)\u001b[39;00m\n",
      "File \u001b[1;32m~\\Desktop\\SOEN471\\venv\\lib\\site-packages\\pandas\\io\\parsers\\readers.py:912\u001b[0m, in \u001b[0;36mread_csv\u001b[1;34m(filepath_or_buffer, sep, delimiter, header, names, index_col, usecols, dtype, engine, converters, true_values, false_values, skipinitialspace, skiprows, skipfooter, nrows, na_values, keep_default_na, na_filter, verbose, skip_blank_lines, parse_dates, infer_datetime_format, keep_date_col, date_parser, date_format, dayfirst, cache_dates, iterator, chunksize, compression, thousands, decimal, lineterminator, quotechar, quoting, doublequote, escapechar, comment, encoding, encoding_errors, dialect, on_bad_lines, delim_whitespace, low_memory, memory_map, float_precision, storage_options, dtype_backend)\u001b[0m\n\u001b[0;32m    899\u001b[0m kwds_defaults \u001b[38;5;241m=\u001b[39m _refine_defaults_read(\n\u001b[0;32m    900\u001b[0m     dialect,\n\u001b[0;32m    901\u001b[0m     delimiter,\n\u001b[1;32m   (...)\u001b[0m\n\u001b[0;32m    908\u001b[0m     dtype_backend\u001b[38;5;241m=\u001b[39mdtype_backend,\n\u001b[0;32m    909\u001b[0m )\n\u001b[0;32m    910\u001b[0m kwds\u001b[38;5;241m.\u001b[39mupdate(kwds_defaults)\n\u001b[1;32m--> 912\u001b[0m \u001b[38;5;28;01mreturn\u001b[39;00m \u001b[43m_read\u001b[49m\u001b[43m(\u001b[49m\u001b[43mfilepath_or_buffer\u001b[49m\u001b[43m,\u001b[49m\u001b[43m \u001b[49m\u001b[43mkwds\u001b[49m\u001b[43m)\u001b[49m\n",
      "File \u001b[1;32m~\\Desktop\\SOEN471\\venv\\lib\\site-packages\\pandas\\io\\parsers\\readers.py:583\u001b[0m, in \u001b[0;36m_read\u001b[1;34m(filepath_or_buffer, kwds)\u001b[0m\n\u001b[0;32m    580\u001b[0m     \u001b[38;5;28;01mreturn\u001b[39;00m parser\n\u001b[0;32m    582\u001b[0m \u001b[38;5;28;01mwith\u001b[39;00m parser:\n\u001b[1;32m--> 583\u001b[0m     \u001b[38;5;28;01mreturn\u001b[39;00m \u001b[43mparser\u001b[49m\u001b[38;5;241;43m.\u001b[39;49m\u001b[43mread\u001b[49m\u001b[43m(\u001b[49m\u001b[43mnrows\u001b[49m\u001b[43m)\u001b[49m\n",
      "File \u001b[1;32m~\\Desktop\\SOEN471\\venv\\lib\\site-packages\\pandas\\io\\parsers\\readers.py:1704\u001b[0m, in \u001b[0;36mTextFileReader.read\u001b[1;34m(self, nrows)\u001b[0m\n\u001b[0;32m   1697\u001b[0m nrows \u001b[38;5;241m=\u001b[39m validate_integer(\u001b[38;5;124m\"\u001b[39m\u001b[38;5;124mnrows\u001b[39m\u001b[38;5;124m\"\u001b[39m, nrows)\n\u001b[0;32m   1698\u001b[0m \u001b[38;5;28;01mtry\u001b[39;00m:\n\u001b[0;32m   1699\u001b[0m     \u001b[38;5;66;03m# error: \"ParserBase\" has no attribute \"read\"\u001b[39;00m\n\u001b[0;32m   1700\u001b[0m     (\n\u001b[0;32m   1701\u001b[0m         index,\n\u001b[0;32m   1702\u001b[0m         columns,\n\u001b[0;32m   1703\u001b[0m         col_dict,\n\u001b[1;32m-> 1704\u001b[0m     ) \u001b[38;5;241m=\u001b[39m \u001b[38;5;28;43mself\u001b[39;49m\u001b[38;5;241;43m.\u001b[39;49m\u001b[43m_engine\u001b[49m\u001b[38;5;241;43m.\u001b[39;49m\u001b[43mread\u001b[49m\u001b[43m(\u001b[49m\u001b[43m  \u001b[49m\u001b[38;5;66;43;03m# type: ignore[attr-defined]\u001b[39;49;00m\n\u001b[0;32m   1705\u001b[0m \u001b[43m        \u001b[49m\u001b[43mnrows\u001b[49m\n\u001b[0;32m   1706\u001b[0m \u001b[43m    \u001b[49m\u001b[43m)\u001b[49m\n\u001b[0;32m   1707\u001b[0m \u001b[38;5;28;01mexcept\u001b[39;00m \u001b[38;5;167;01mException\u001b[39;00m:\n\u001b[0;32m   1708\u001b[0m     \u001b[38;5;28mself\u001b[39m\u001b[38;5;241m.\u001b[39mclose()\n",
      "File \u001b[1;32m~\\Desktop\\SOEN471\\venv\\lib\\site-packages\\pandas\\io\\parsers\\c_parser_wrapper.py:234\u001b[0m, in \u001b[0;36mCParserWrapper.read\u001b[1;34m(self, nrows)\u001b[0m\n\u001b[0;32m    232\u001b[0m \u001b[38;5;28;01mtry\u001b[39;00m:\n\u001b[0;32m    233\u001b[0m     \u001b[38;5;28;01mif\u001b[39;00m \u001b[38;5;28mself\u001b[39m\u001b[38;5;241m.\u001b[39mlow_memory:\n\u001b[1;32m--> 234\u001b[0m         chunks \u001b[38;5;241m=\u001b[39m \u001b[38;5;28;43mself\u001b[39;49m\u001b[38;5;241;43m.\u001b[39;49m\u001b[43m_reader\u001b[49m\u001b[38;5;241;43m.\u001b[39;49m\u001b[43mread_low_memory\u001b[49m\u001b[43m(\u001b[49m\u001b[43mnrows\u001b[49m\u001b[43m)\u001b[49m\n\u001b[0;32m    235\u001b[0m         \u001b[38;5;66;03m# destructive to chunks\u001b[39;00m\n\u001b[0;32m    236\u001b[0m         data \u001b[38;5;241m=\u001b[39m _concatenate_chunks(chunks)\n",
      "File \u001b[1;32m~\\Desktop\\SOEN471\\venv\\lib\\site-packages\\pandas\\_libs\\parsers.pyx:812\u001b[0m, in \u001b[0;36mpandas._libs.parsers.TextReader.read_low_memory\u001b[1;34m()\u001b[0m\n",
      "File \u001b[1;32m~\\Desktop\\SOEN471\\venv\\lib\\site-packages\\pandas\\_libs\\parsers.pyx:873\u001b[0m, in \u001b[0;36mpandas._libs.parsers.TextReader._read_rows\u001b[1;34m()\u001b[0m\n",
      "File \u001b[1;32m~\\Desktop\\SOEN471\\venv\\lib\\site-packages\\pandas\\_libs\\parsers.pyx:848\u001b[0m, in \u001b[0;36mpandas._libs.parsers.TextReader._tokenize_rows\u001b[1;34m()\u001b[0m\n",
      "File \u001b[1;32m~\\Desktop\\SOEN471\\venv\\lib\\site-packages\\pandas\\_libs\\parsers.pyx:859\u001b[0m, in \u001b[0;36mpandas._libs.parsers.TextReader._check_tokenize_status\u001b[1;34m()\u001b[0m\n",
      "File \u001b[1;32m~\\Desktop\\SOEN471\\venv\\lib\\site-packages\\pandas\\_libs\\parsers.pyx:2025\u001b[0m, in \u001b[0;36mpandas._libs.parsers.raise_parser_error\u001b[1;34m()\u001b[0m\n",
      "\u001b[1;31mParserError\u001b[0m: Error tokenizing data. C error: Calling read(nbytes) on source failed. Try engine='python'."
     ]
    }
   ],
   "source": [
    "ratings = pd.read_csv('./clean_data/interactions_TRAIN.csv').drop('Unnamed: 0', axis=1)\n",
    "recipes = pd.read_csv('./clean_data/recipes.csv').drop('Unnamed: 0', axis=1)\n",
    "\n",
    "# ratings_TRAIN_dask = dd.from_pandas(ratings_TRAIN, 1).reset_index().drop('index', axis=1)\n",
    "recipes_dask = dd.read_csv('./clean_data/recipes.csv').drop('Unnamed: 0', axis=1)"
   ]
  },
  {
   "cell_type": "code",
   "execution_count": null,
   "id": "d39363ef",
   "metadata": {},
   "outputs": [],
   "source": [
    "class TFIDF_Recommendations():\n",
    "    \n",
    "    def __init__(self, recipes, ratings):\n",
    "        self.recipes = recipes\n",
    "        self.recipes['tags'] = self.recipes['tags'].map(eval).map(lambda x: ' '.join(x))\n",
    "        self.cosine_matrix = None\n",
    "        self.flag = False\n",
    "        self.indices = pd.Series(self.recipes.index, index = self.recipes['recipe_id']).drop_duplicates()\n",
    "        \n",
    "        rated_recipes = ratings['recipe_id'].unique()\n",
    "        self.recipes = self.recipes[self.recipes['recipe_id'].isin(rated_recipes)]\n",
    "        \n",
    "        self.ratings = ratings.merge(self.recipes, on = 'recipe_id')\n",
    "        self.ratings.drop(['date', 'minutes', 'contributor_id', 'submitted', 'n_steps', 'description', 'ingredients', 'n_ingredients', 'Calories', 'Total_fat_PDV', 'Sugar_PDV', 'Sodium_PDV', 'Protein_PDV', 'Saturated_fat_PDV', 'Carbohydrates_PDV', 'steps'], axis=1)\n",
    "        self.ratings['mean_user_rating'] = self.ratings.groupby('user_id')['rating'].transform('mean')\n",
    "        self.ratings['weighted_rating'] = self.ratings['rating'] - self.ratings['mean_user_rating']\n",
    "        \n",
    "        self.tfidf = TfidfVectorizer(stop_words='english', token_pattern=r\"(?u)\\S\\S+\")\n",
    "        self.tfidf_ratings_matrix = tfidf.fit_transform(self.ratings['tags'])\n",
    "        self.tfidf_recipes_matrix = tfidf.fit_transform(self.recipes['tags'])\n",
    "    \n",
    "    def display_tag_distribution(self):\n",
    "        \n",
    "        tags_count = self.recipes['tags'].map(Counter).sum().compute().most_common()\n",
    "        fig = px.bar(tags_count,\n",
    "                     x = 0,\n",
    "                     y = 1,\n",
    "                     log_y = True,\n",
    "                     title = \"Count Distribution of Tags Column\")\n",
    "        fig.update_layout(\n",
    "            xaxis_title=\"Tag Names\",\n",
    "            yaxis_title=\"Counts\",\n",
    "            yaxis = dict(\n",
    "                tickmode = 'linear',\n",
    "                tick0 = 0,\n",
    "                dtick = 1\n",
    "    ))\n",
    "    \n",
    "        return fig\n",
    "    \n",
    "    def display_cosine_matrix(self, n=5):\n",
    "        \n",
    "        try:\n",
    "            fig = px.imshow(self.cosine_matrix[:n, :n],\n",
    "                            labels = dict(x = \"Recipe Index\", y = \"Recipe Index\", color = \"Cosine Similarity\"),\n",
    "                            title = \"Cosine similarity of Recipes\",\n",
    "                            text_auto = True)\n",
    "        except:\n",
    "            raise Exception(\"Generate a cosine matrix first by calling generate_cosine_sim_matrix()\")\n",
    "            \n",
    "        return fig\n",
    "    \n",
    "    def generate_user_profile(self, user_id):\n",
    "        \n",
    "        user_profile = 0\n",
    "        for index in self.ratings[self.ratings['user_id'] == user_id].index:\n",
    "            user_profile += self.tfidf_ratings_matrix[index] * self.ratings.loc[index]['weighted_rating']\n",
    "\n",
    "        return user_profile\n",
    "        \n",
    "    \n",
    "    def generate_recommendations(self, user_id, n):\n",
    "        \n",
    "        similar_recipes = []\n",
    "        toReturn = []\n",
    "        curr_similarity = 0\n",
    "        user_profile = self.generate_user_profile(user_id)\n",
    "        for i in range(0, self.tfidf_recipes_matrix.shape[0]):\n",
    "            curr_similarity = cosine_similarity(self.tfidf_recipes_matrix[i], user_profile)\n",
    "            similar_recipes.append((curr_similarity[0][0], i))\n",
    "        \n",
    "        similar_recipes = sorted(similar_recipes, key = lambda x: x[0])[:n]\n",
    "        \n",
    "        for sim, idx in similar_recipes:\n",
    "            recipe = self.recipes.loc[idx]['name']\n",
    "            toReturn.append(recipe)\n",
    "            \n",
    "        return toReturn"
   ]
  },
  {
   "cell_type": "code",
   "execution_count": null,
   "id": "eafc1661",
   "metadata": {},
   "outputs": [],
   "source": [
    "obj = TFIDF_Recommendations(recipes, ratings)"
   ]
  },
  {
   "cell_type": "code",
   "execution_count": null,
   "id": "ac098f0e",
   "metadata": {},
   "outputs": [],
   "source": [
    "obj.generate_recommendations(104295, 10)"
   ]
  },
  {
   "cell_type": "code",
   "execution_count": null,
   "id": "ce31eb89",
   "metadata": {},
   "outputs": [],
   "source": []
  }
 ],
 "metadata": {
  "kernelspec": {
   "display_name": "Python 3 (ipykernel)",
   "language": "python",
   "name": "python3"
  },
  "language_info": {
   "codemirror_mode": {
    "name": "ipython",
    "version": 3
   },
   "file_extension": ".py",
   "mimetype": "text/x-python",
   "name": "python",
   "nbconvert_exporter": "python",
   "pygments_lexer": "ipython3",
   "version": "3.10.10"
  }
 },
 "nbformat": 4,
 "nbformat_minor": 5
}

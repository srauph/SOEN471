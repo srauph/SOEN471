{
 "cells": [
  {
   "cell_type": "code",
   "execution_count": 1,
   "id": "58e62024",
   "metadata": {},
   "outputs": [],
   "source": [
    "import pandas as pd\n",
    "import numpy as np\n",
    "import dask.dataframe as dd\n",
    "# from dask_ml.feature_extraction import HashingVectorizer\n",
    "import os\n",
    "import seaborn as sns\n",
    "from collections import Counter\n",
    "import plotly.express as px\n",
    "from sklearn.feature_extraction.text import TfidfVectorizer\n",
    "from sklearn.metrics.pairwise import cosine_similarity\n",
    "import warnings\n",
    "from scipy.sparse import csr_matrix\n",
    "warnings.filterwarnings(\"ignore\")\n",
    "\n",
    "# import findspark\n",
    "# findspark.init()\n",
    "\n",
    "# import pyspark\n",
    "# from pyspark.sql import SparkSession\n",
    "# from pyspark.sql.functions import col\n",
    "\n",
    "# spark = SparkSession.builder.config(\"spark.driver.memory\", \"8g\").appName('SparkByExamples.com').getOrCreate()\n",
    "# sc=spark.sparkContext"
   ]
  },
  {
   "cell_type": "markdown",
   "id": "e33dbb09",
   "metadata": {},
   "source": [
    "---"
   ]
  },
  {
   "cell_type": "markdown",
   "id": "e5fb9d45",
   "metadata": {},
   "source": [
    "## Item Profiles based on TF-IDF of tags column"
   ]
  },
  {
   "cell_type": "code",
   "execution_count": 2,
   "id": "ad07ed10",
   "metadata": {},
   "outputs": [],
   "source": [
    "ratings = dd.read_csv('./clean_data/interactions_TRAIN.csv').drop('Unnamed: 0', axis=1)\n",
    "ratings_test = dd.read_csv('./clean_data/interactions_TRAIN.csv').drop('Unnamed: 0', axis=1)\n",
    "recipes = dd.read_csv('./clean_data/recipes.csv').drop('Unnamed: 0', axis=1)\n",
    "\n",
    "# ratings_TRAIN_dask = dd.from_pandas(ratings_TRAIN, 1).reset_index().drop('index', axis=1)\n",
    "# recipes_dask = dd.read_csv('./clean_data/recipes.csv').drop('Unnamed: 0', axis=1)"
   ]
  },
  {
   "cell_type": "code",
   "execution_count": 3,
   "id": "d39363ef",
   "metadata": {
    "tags": []
   },
   "outputs": [],
   "source": [
    "class TFIDF_Recommendations():\n",
    "    \n",
    "    def __init__(self, recipes, ratings):\n",
    "        self.recipes = recipes\n",
    "        self.recipes['tags'] = self.recipes['tags'].map(eval, meta=('x', int)).map(lambda x: ' '.join(x), meta=('x', str))\n",
    "        self.cosine_matrix = None\n",
    "        self.flag = False\n",
    "        self.recipes.drop_duplicates(subset='recipe_id')\n",
    "        # self.indices = dd.Series(self.recipes.index, index = self.recipes['recipe_id']).drop_duplicates())\n",
    "        \n",
    "        \n",
    "        self.ratings = ratings.merge(self.recipes, on = 'recipe_id')\n",
    "        self.ratings.drop(['date', 'minutes', 'contributor_id', 'submitted', 'n_steps', 'description', 'ingredients', 'n_ingredients', 'Calories', 'Total_fat_PDV', 'Sugar_PDV', 'Sodium_PDV', 'Protein_PDV', 'Saturated_fat_PDV', 'Carbohydrates_PDV', 'steps'], axis=1)\n",
    "        \n",
    "        mean_user_ratings = self.ratings.groupby('user_id')['rating'].mean().rename('mean_user_rating')\n",
    "        self.ratings = self.ratings.join(mean_user_ratings, on='user_id')\n",
    "        self.ratings['weighted_rating'] = self.ratings['rating'] - self.ratings['mean_user_rating']\n",
    "        \n",
    "        rated_recipes = self.ratings['recipe_id'].unique().compute()\n",
    "        self.recipes = self.recipes[self.recipes['recipe_id'].isin(rated_recipes)]\n",
    "        \n",
    "        self.tfidf = TfidfVectorizer(stop_words='english', token_pattern=r\"(?u)\\S\\S+\")\n",
    "        \n",
    "        self.tfidf_ratings_matrix = self.tfidf.fit_transform(self.ratings['tags'])\n",
    "        self.tfidf_recipes_matrix = self.tfidf.fit_transform(self.recipes['tags'])\n",
    "    \n",
    "    def display_tag_distribution(self):\n",
    "        \n",
    "        tags_count = self.recipes['tags'].map(Counter).sum().compute().most_common()\n",
    "        fig = px.bar(tags_count,\n",
    "                     x = 0,\n",
    "                     y = 1,\n",
    "                     log_y = True,\n",
    "                     title = \"Count Distribution of Tags Column\")\n",
    "        fig.update_layout(\n",
    "            xaxis_title=\"Tag Names\",\n",
    "            yaxis_title=\"Counts\",\n",
    "            yaxis = dict(\n",
    "                tickmode = 'linear',\n",
    "                tick0 = 0,\n",
    "                dtick = 1\n",
    "    ))\n",
    "    \n",
    "        return fig\n",
    "    \n",
    "    def display_cosine_matrix(self, n=5):\n",
    "        \n",
    "        try:\n",
    "            fig = px.imshow(self.cosine_matrix[:n, :n],\n",
    "                            labels = dict(x = \"Recipe Index\", y = \"Recipe Index\", color = \"Cosine Similarity\"),\n",
    "                            title = \"Cosine similarity of Recipes\",\n",
    "                            text_auto = True)\n",
    "        except:\n",
    "            raise Exception(\"Generate a cosine matrix first by calling generate_cosine_sim_matrix()\")\n",
    "            \n",
    "        return fig\n",
    "    \n",
    "    def generate_user_profile(self, user_id):\n",
    "        rows = self.ratings.query(f'user_id == {user_id}')\n",
    "        \n",
    "        indices = rows.index.compute()\n",
    "        \n",
    "    \n",
    "        ratings = self.ratings.compute().reset_index()\n",
    "        user_profile = 0\n",
    "        for index in indices:\n",
    "            user_profile += self.tfidf_ratings_matrix[index] * ratings.loc[index]['weighted_rating']\n",
    "\n",
    "        return user_profile\n",
    "        \n",
    "    \n",
    "    def generate_recommendations(self, user_id):\n",
    "        similar_recipes = []\n",
    "        curr_similarity = 0\n",
    "        user_profile = self.generate_user_profile(user_id)\n",
    "        collected_profile = user_profile\n",
    "    \n",
    "        recipes = self.recipes.compute().reset_index()\n",
    "        \n",
    "        for i in range(0, self.tfidf_recipes_matrix.shape[0]):\n",
    "            curr_similarity = cosine_similarity(self.tfidf_recipes_matrix[i], collected_profile)\n",
    "            similar_recipes.append((curr_similarity[0][0], recipes.loc[i]['recipe_id'], i))\n",
    "        \n",
    "        similar_recipes = sorted(similar_recipes, key = lambda x: x[0])\n",
    "        \n",
    "        return similar_recipes\n",
    "    \n",
    "    def display_recommendations(self, recommendations, n):\n",
    "        toReturn = []\n",
    "        \n",
    "        similar_recipes = recommendations[:n]\n",
    "        \n",
    "        recipes = self.recipes.compute().reset_index()\n",
    "        for sim, _, idx in similar_recipes:\n",
    "            recipe = recipes.loc[idx]['name']\n",
    "            toReturn.append(recipe)\n",
    "        \n",
    "        return toReturn\n",
    "        \n",
    "        "
   ]
  },
  {
   "cell_type": "code",
   "execution_count": 4,
   "id": "eafc1661",
   "metadata": {},
   "outputs": [],
   "source": [
    "obj = TFIDF_Recommendations(recipes, ratings)"
   ]
  },
  {
   "cell_type": "code",
   "execution_count": 5,
   "id": "ac098f0e",
   "metadata": {},
   "outputs": [],
   "source": [
    "recommendations = obj.generate_recommendations(104295)"
   ]
  },
  {
   "cell_type": "code",
   "execution_count": 6,
   "id": "d492741e-07fd-4fd5-97a5-a2f32e2a75f1",
   "metadata": {
    "tags": []
   },
   "outputs": [
    {
     "data": {
      "text/plain": [
       "['mike q s xmas bruschetta',\n",
       " 'kasha patate sucree or kasha pilaf with sweet potato puree and a',\n",
       " 'cranberry sauce',\n",
       " 'forde s diet soup',\n",
       " 'pioneer woman s brussels sprouts with balsamic and cranberries',\n",
       " 'not your average brussels sprouts',\n",
       " 'festive carrots   pineapple',\n",
       " 'grog  hot toddy',\n",
       " 'zucchini  chayote and yellow squash',\n",
       " 'back to basics roasted green beans']"
      ]
     },
     "execution_count": 6,
     "metadata": {},
     "output_type": "execute_result"
    }
   ],
   "source": [
    "obj.display_recommendations(recommendations, 10)"
   ]
  },
  {
   "cell_type": "code",
   "execution_count": 21,
   "id": "d990a3de-3c2e-4615-8d90-fc4f6cb5f2b4",
   "metadata": {},
   "outputs": [],
   "source": [
    "def evaluate_model(obj, recommendations, user_id):\n",
    "    import math\n",
    "    \n",
    "    recommendations_np = np.array(recommendations)\n",
    "    recommendations = dd.from_array(recommendations_np, columns=['prediction', 'recipe_id', 'index'])\n",
    "    ratings_test_by_user = ratings_test.query(f'user_id == {user_id}')\n",
    "    print(ratings_test_by_user.compute())\n",
    "    print(recommendations.compute())\n",
    "    ratings_list = ratings_test_by_user.merge(recommendations, on='recipe_id')\n",
    "    \n",
    "    ratings_list = ratings_list.assign(temp=lambda x: (x.prediction - x.rating)*(x.prediction - x.rating))\n",
    "    \n",
    "    print(ratings_list.compute())\n",
    "    \n",
    "    rmse_sum = ratings_list['temp'].sum().compute()\n",
    "    \n",
    "    print (rmse_sum)\n",
    "    \n",
    "    rmse = math.sqrt(rmse_sum)\n",
    "    print (rmse)\n",
    "    return rmse"
   ]
  },
  {
   "cell_type": "code",
   "execution_count": 22,
   "id": "9d28b4be-c893-40d9-bd04-06585176606a",
   "metadata": {
    "tags": []
   },
   "outputs": [
    {
     "name": "stdout",
     "output_type": "stream",
     "text": [
      "        user_id  recipe_id        date  rating   \n",
      "1        104295      38353  2005-02-08       5  \\\n",
      "1896     104295      32059  2005-04-12       5   \n",
      "2524     104295      65268  2004-04-27       5   \n",
      "2635     104295      28710  2009-10-11       5   \n",
      "3207     104295      31765  2004-01-22       5   \n",
      "...         ...        ...         ...     ...   \n",
      "201391   104295       2015  2007-06-14       4   \n",
      "201784   104295      17861  2006-01-19       3   \n",
      "202100   104295     100235  2006-06-04       5   \n",
      "203272   104295       4977  2008-05-01       0   \n",
      "203580   104295      74386  2004-06-03       5   \n",
      "\n",
      "                                                   review  \n",
      "1       Very yummy.  I quartered the recipe and theref...  \n",
      "1896    Very moist incredibly low fat muffin.  I used ...  \n",
      "2524    These were excellent!  I used cayenne pepper i...  \n",
      "2635    There is another family we get together with m...  \n",
      "3207    This is a very nice lite dessert.  It is time ...  \n",
      "...                                                   ...  \n",
      "201391  We enjoyed this tonight.  My husband bought a ...  \n",
      "201784  I have waited to review these because I am sor...  \n",
      "202100  This is sooooo good!  I used sugar free/fat fr...  \n",
      "203272  I could not get this crust to work, and I trie...  \n",
      "203580  My 2 year old helped make this.  It was easy a...  \n",
      "\n",
      "[1466 rows x 5 columns]\n",
      "       prediction  recipe_id     index\n",
      "0       -0.521699   187195.0  129902.0\n",
      "1       -0.491220     7368.0  111782.0\n",
      "2       -0.481360   302020.0   58325.0\n",
      "3       -0.477694   410315.0   82046.0\n",
      "4       -0.474694   470033.0  154163.0\n",
      "...           ...        ...       ...\n",
      "21894    0.131192   103533.0  160880.0\n",
      "21895    0.142657   410566.0   92853.0\n",
      "21896    0.146571   180223.0   95743.0\n",
      "21897    0.149384   425289.0   87676.0\n",
      "21898    0.171460   369898.0  158779.0\n",
      "\n",
      "[221899 rows x 3 columns]\n",
      "    user_id  recipe_id        date  rating   \n",
      "0    104295      65268  2004-04-27       5  \\\n",
      "1    104295     191181  2007-06-08       5   \n",
      "2    104295     137014  2007-01-01       4   \n",
      "3    104295     104137  2004-12-23       5   \n",
      "4    104295      23241  2004-12-11       4   \n",
      "..      ...        ...         ...     ...   \n",
      "56   104295     182784  2007-06-11       4   \n",
      "57   104295     128810  2007-01-09       0   \n",
      "58   104295     341049  2009-12-16       4   \n",
      "59   104295      84869  2004-05-19       5   \n",
      "60   104295     339348  2010-06-30       5   \n",
      "\n",
      "                                               review  prediction     index   \n",
      "0   These were excellent!  I used cayenne pepper i...   -0.275761  193727.0  \\\n",
      "1   This marinade is great.  I had little scallops...   -0.139864  200891.0   \n",
      "2   Super easy with what I have on hand normally. ...   -0.366488  218723.0   \n",
      "3   wow is this SPICY!  I was thrilled with how ea...   -0.057023  103129.0   \n",
      "4   These are pretty good.  One caveat though, the...   -0.098500  211688.0   \n",
      "..                                                ...         ...       ...   \n",
      "56  I enjoyed this one once I added a liberal dash...   -0.308343   15774.0   \n",
      "57  I messed these up.  My oven was at 400 degrees...    0.029934  219781.0   \n",
      "58  We enjoyed this salad, but I would cut down on...   -0.198730   57675.0   \n",
      "59  These are wonderful!  I used 2 egg whites inst...   -0.081004  139979.0   \n",
      "60  These are so good!  I used honey and semi-swee...    0.014635  139339.0   \n",
      "\n",
      "         temp  \n",
      "0   27.833658  \n",
      "1   26.418199  \n",
      "2   19.066214  \n",
      "3   25.573483  \n",
      "4   16.797699  \n",
      "..        ...  \n",
      "56  18.561822  \n",
      "57   0.000896  \n",
      "58  17.629334  \n",
      "59  25.816605  \n",
      "60  24.853859  \n",
      "\n",
      "[304 rows x 8 columns]\n",
      "6134.764399932502\n",
      "78.32473683283271\n"
     ]
    },
    {
     "data": {
      "text/plain": [
       "78.32473683283271"
      ]
     },
     "execution_count": 22,
     "metadata": {},
     "output_type": "execute_result"
    }
   ],
   "source": [
    "evaluate_model(obj, recommendations, 104295)"
   ]
  },
  {
   "cell_type": "code",
   "execution_count": null,
   "id": "7c1d3150-f0a1-4f1b-9ca5-1fc0e8d82efa",
   "metadata": {},
   "outputs": [],
   "source": []
  }
 ],
 "metadata": {
  "kernelspec": {
   "display_name": "Python 3 (ipykernel)",
   "language": "python",
   "name": "python3"
  },
  "language_info": {
   "codemirror_mode": {
    "name": "ipython",
    "version": 3
   },
   "file_extension": ".py",
   "mimetype": "text/x-python",
   "name": "python",
   "nbconvert_exporter": "python",
   "pygments_lexer": "ipython3",
   "version": "3.10.10"
  }
 },
 "nbformat": 4,
 "nbformat_minor": 5
}
